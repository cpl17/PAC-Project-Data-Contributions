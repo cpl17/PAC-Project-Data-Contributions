{
 "cells": [
  {
   "cell_type": "markdown",
   "metadata": {},
   "source": [
    "# Imports and Data"
   ]
  },
  {
   "cell_type": "code",
   "execution_count": 3,
   "metadata": {},
   "outputs": [],
   "source": [
    "import pandas as pd\n",
    "pd.set_option('expand_frame_repr', False)"
   ]
  },
  {
   "cell_type": "code",
   "execution_count": 4,
   "metadata": {},
   "outputs": [],
   "source": [
    "ERA_SOURCE_DIRECTORY = r\"C:\\Users\\CPL17\\OneDrive\\Documents\\Code\\Dev Projects\\Current\\PAC_New\\Data\"\n",
    "STATE = \"PA\"\n",
    "source_data = pd.read_excel(ERA_SOURCE_DIRECTORY + f\"\\ERA_{STATE}.xlsx\",sheet_name=\"All Plants\")"
   ]
  },
  {
   "attachments": {},
   "cell_type": "markdown",
   "metadata": {},
   "source": [
    "# Observe Characteristics of Relevant Columns \n",
    "\n",
    "These are the columns used for CNP filters"
   ]
  },
  {
   "cell_type": "code",
   "execution_count": 5,
   "metadata": {},
   "outputs": [],
   "source": [
    "relevant_columns = [\"Scientific Name\",\"Sun Exposure\",\"Soil Moisture\",\"Pollinators\",\"Flowering Months\",\"Height (feet)\",\"Showy\",\"Flower Color\"]"
   ]
  },
  {
   "cell_type": "code",
   "execution_count": 7,
   "metadata": {},
   "outputs": [
    {
     "data": {
      "text/html": [
       "<div>\n",
       "<style scoped>\n",
       "    .dataframe tbody tr th:only-of-type {\n",
       "        vertical-align: middle;\n",
       "    }\n",
       "\n",
       "    .dataframe tbody tr th {\n",
       "        vertical-align: top;\n",
       "    }\n",
       "\n",
       "    .dataframe thead th {\n",
       "        text-align: right;\n",
       "    }\n",
       "</style>\n",
       "<table border=\"1\" class=\"dataframe\">\n",
       "  <thead>\n",
       "    <tr style=\"text-align: right;\">\n",
       "      <th></th>\n",
       "      <th>Scientific Name</th>\n",
       "      <th>Sun Exposure</th>\n",
       "      <th>Soil Moisture</th>\n",
       "      <th>Pollinators</th>\n",
       "      <th>Flowering Months</th>\n",
       "      <th>Height (feet)</th>\n",
       "      <th>Showy</th>\n",
       "      <th>Flower Color</th>\n",
       "    </tr>\n",
       "  </thead>\n",
       "  <tbody>\n",
       "    <tr>\n",
       "      <th>0</th>\n",
       "      <td>Abies balsamea</td>\n",
       "      <td>Sun, Part Shade, Shade</td>\n",
       "      <td>Wet, Moist</td>\n",
       "      <td>Larval Host (Butterfly); Larval Host (Moth); Wind</td>\n",
       "      <td>Jun–Aug</td>\n",
       "      <td>60</td>\n",
       "      <td>No</td>\n",
       "      <td>Yellow</td>\n",
       "    </tr>\n",
       "    <tr>\n",
       "      <th>1</th>\n",
       "      <td>Acalypha rhomboidea</td>\n",
       "      <td>NaN</td>\n",
       "      <td>Moist, Dry</td>\n",
       "      <td>Larval Host (Moth)</td>\n",
       "      <td>NaN</td>\n",
       "      <td>NaN</td>\n",
       "      <td>Yes</td>\n",
       "      <td>NaN</td>\n",
       "    </tr>\n",
       "    <tr>\n",
       "      <th>2</th>\n",
       "      <td>Acalypha virginica</td>\n",
       "      <td>Sun, Part Shade</td>\n",
       "      <td>Moist, Dry</td>\n",
       "      <td>NaN</td>\n",
       "      <td>Jun–Jul</td>\n",
       "      <td>3</td>\n",
       "      <td>Yes</td>\n",
       "      <td>Red</td>\n",
       "    </tr>\n",
       "    <tr>\n",
       "      <th>3</th>\n",
       "      <td>Acer negundo</td>\n",
       "      <td>Sun, Part Shade, Shade</td>\n",
       "      <td>Wet, Moist</td>\n",
       "      <td>Native Bees; Bombus; Honey Bees; Beetles, Wasp...</td>\n",
       "      <td>Mar–Apr</td>\n",
       "      <td>60</td>\n",
       "      <td>No</td>\n",
       "      <td>White</td>\n",
       "    </tr>\n",
       "    <tr>\n",
       "      <th>4</th>\n",
       "      <td>Acer nigrum</td>\n",
       "      <td>Sun, Part Shade, Shade</td>\n",
       "      <td>Dry</td>\n",
       "      <td>Larval Host (Moth); Wind</td>\n",
       "      <td>May–Jun</td>\n",
       "      <td>100</td>\n",
       "      <td>No</td>\n",
       "      <td>Yellow</td>\n",
       "    </tr>\n",
       "    <tr>\n",
       "      <th>...</th>\n",
       "      <td>...</td>\n",
       "      <td>...</td>\n",
       "      <td>...</td>\n",
       "      <td>...</td>\n",
       "      <td>...</td>\n",
       "      <td>...</td>\n",
       "      <td>...</td>\n",
       "      <td>...</td>\n",
       "    </tr>\n",
       "    <tr>\n",
       "      <th>1656</th>\n",
       "      <td>Zanthoxylum americanum</td>\n",
       "      <td>NaN</td>\n",
       "      <td>Moist, Dry</td>\n",
       "      <td>Native Bees; Honey Bees; Beetles, Wasps, Flies...</td>\n",
       "      <td>NaN</td>\n",
       "      <td>NaN</td>\n",
       "      <td>NaN</td>\n",
       "      <td>NaN</td>\n",
       "    </tr>\n",
       "    <tr>\n",
       "      <th>1657</th>\n",
       "      <td>Zigadenus elegans</td>\n",
       "      <td>Sun, Part Shade</td>\n",
       "      <td>Dry</td>\n",
       "      <td>Native Bees</td>\n",
       "      <td>May–Jun</td>\n",
       "      <td>1–3</td>\n",
       "      <td>No</td>\n",
       "      <td>White</td>\n",
       "    </tr>\n",
       "    <tr>\n",
       "      <th>1658</th>\n",
       "      <td>Zizania aquatica</td>\n",
       "      <td>Sun, Part Shade</td>\n",
       "      <td>Wet</td>\n",
       "      <td>Larval Host (Butterfly); Larval Host (Moth); Wind</td>\n",
       "      <td>Indeterminate</td>\n",
       "      <td>10</td>\n",
       "      <td>No</td>\n",
       "      <td>Green</td>\n",
       "    </tr>\n",
       "    <tr>\n",
       "      <th>1659</th>\n",
       "      <td>Zizia aptera</td>\n",
       "      <td>Sun, Part Shade, Shade</td>\n",
       "      <td>Wet, Moist, Dry</td>\n",
       "      <td>Native Bees; Bombus; Honey Bees; Beetles, Wasp...</td>\n",
       "      <td>May–Jun</td>\n",
       "      <td>1–3</td>\n",
       "      <td>Yes</td>\n",
       "      <td>Yellow</td>\n",
       "    </tr>\n",
       "    <tr>\n",
       "      <th>1660</th>\n",
       "      <td>Zizia aurea</td>\n",
       "      <td>Sun, Part Shade</td>\n",
       "      <td>Wet, Moist, Dry</td>\n",
       "      <td>Native Bees; Bombus; Honey Bees; Beetles, Wasp...</td>\n",
       "      <td>Apr–Aug</td>\n",
       "      <td>1–3</td>\n",
       "      <td>Yes</td>\n",
       "      <td>Yellow</td>\n",
       "    </tr>\n",
       "  </tbody>\n",
       "</table>\n",
       "<p>1661 rows × 8 columns</p>\n",
       "</div>"
      ],
      "text/plain": [
       "             Scientific Name            Sun Exposure    Soil Moisture                                        Pollinators Flowering Months Height (feet) Showy Flower Color\n",
       "0             Abies balsamea  Sun, Part Shade, Shade       Wet, Moist  Larval Host (Butterfly); Larval Host (Moth); Wind          Jun–Aug            60    No       Yellow\n",
       "1        Acalypha rhomboidea                     NaN       Moist, Dry                                 Larval Host (Moth)              NaN           NaN   Yes          NaN\n",
       "2         Acalypha virginica         Sun, Part Shade       Moist, Dry                                                NaN          Jun–Jul             3   Yes          Red\n",
       "3               Acer negundo  Sun, Part Shade, Shade       Wet, Moist  Native Bees; Bombus; Honey Bees; Beetles, Wasp...          Mar–Apr            60    No        White\n",
       "4                Acer nigrum  Sun, Part Shade, Shade              Dry                           Larval Host (Moth); Wind          May–Jun           100    No       Yellow\n",
       "...                      ...                     ...              ...                                                ...              ...           ...   ...          ...\n",
       "1656  Zanthoxylum americanum                     NaN       Moist, Dry  Native Bees; Honey Bees; Beetles, Wasps, Flies...              NaN           NaN   NaN          NaN\n",
       "1657       Zigadenus elegans         Sun, Part Shade              Dry                                        Native Bees          May–Jun           1–3    No        White\n",
       "1658        Zizania aquatica         Sun, Part Shade              Wet  Larval Host (Butterfly); Larval Host (Moth); Wind    Indeterminate            10    No        Green\n",
       "1659            Zizia aptera  Sun, Part Shade, Shade  Wet, Moist, Dry  Native Bees; Bombus; Honey Bees; Beetles, Wasp...          May–Jun           1–3   Yes       Yellow\n",
       "1660             Zizia aurea         Sun, Part Shade  Wet, Moist, Dry  Native Bees; Bombus; Honey Bees; Beetles, Wasp...          Apr–Aug           1–3   Yes       Yellow\n",
       "\n",
       "[1661 rows x 8 columns]"
      ]
     },
     "execution_count": 7,
     "metadata": {},
     "output_type": "execute_result"
    }
   ],
   "source": [
    "relevant_df = source_data[relevant_columns]\n",
    "relevant_df"
   ]
  },
  {
   "cell_type": "code",
   "execution_count": 8,
   "metadata": {},
   "outputs": [],
   "source": [
    "relevant_df.set_index(\"Scientific Name\",inplace=True)\n",
    "relevant_df.to_csv(ERA_SOURCE_DIRECTORY +\"/ERA_PA_Reduced.csv\")"
   ]
  },
  {
   "cell_type": "code",
   "execution_count": 7,
   "metadata": {},
   "outputs": [
    {
     "data": {
      "text/plain": [
       "<AxesSubplot:>"
      ]
     },
     "execution_count": 7,
     "metadata": {},
     "output_type": "execute_result"
    },
    {
     "data": {
      "image/png": "[encoded data removed]",
      "text/plain": [
       "<Figure size 432x288 with 1 Axes>"
      ]
     },
     "metadata": {
      "needs_background": "light"
     },
     "output_type": "display_data"
    }
   ],
   "source": [
    "relevant_df.isna().sum().plot(kind=\"bar\")"
   ]
  },
  {
   "cell_type": "markdown",
   "metadata": {},
   "source": [
    "# Unique Values"
   ]
  },
  {
   "cell_type": "code",
   "execution_count": 10,
   "metadata": {},
   "outputs": [],
   "source": [
    "relevant_df = pd.read_csv(\"./ERA_PA_Reduced.csv\")[relevant_columns]\n",
    "relevant_df.drop(\"Scientific Name\",axis=1,inplace=True)"
   ]
  },
  {
   "cell_type": "code",
   "execution_count": 13,
   "metadata": {},
   "outputs": [],
   "source": [
    "full_df = None\n",
    "for col in relevant_df:\n",
    "    df = relevant_df[col].value_counts().reset_index()\n",
    "    df.columns = [df.columns[1],\"Count\"]\n",
    "    if full_df is not None:\n",
    "        full_df = pd.concat([full_df,df],axis=1)\n",
    "    else:\n",
    "        full_df = df\n",
    "\n",
    "full_df.to_csv(\"PA_UniqueValues.csv\",index=False)"
   ]
  },
  {
   "cell_type": "markdown",
   "metadata": {},
   "source": [
    "# Down a level a granularity"
   ]
  },
  {
   "cell_type": "code",
   "execution_count": 4,
   "metadata": {},
   "outputs": [],
   "source": [
    "def get_unique_values(df, column_name):\n",
    "    unique_values = []\n",
    "    for cell_value in df[column_name]:\n",
    "        if isinstance(cell_value,float):\n",
    "            continue\n",
    "        if column_name == \"Pollinators\":\n",
    "            values = str(cell_value).split(\";\")\n",
    "        else:\n",
    "            values = str(cell_value).split(\",\")\n",
    "        for value in values:\n",
    "            if value not in unique_values:\n",
    "                unique_values.append(value)\n",
    "    return unique_values"
   ]
  },
  {
   "cell_type": "code",
   "execution_count": 19,
   "metadata": {},
   "outputs": [],
   "source": [
    "df = pd.read_csv(\"PA_UniqueValues.csv\",index_col=0)"
   ]
  },
  {
   "cell_type": "code",
   "execution_count": 20,
   "metadata": {},
   "outputs": [
    {
     "data": {
      "text/plain": [
       "Index(['Sun Exposure', 'Count', 'Soil Moisture', 'Count.1', 'Plant Type',\n",
       "       'Count.2', 'Pollinators', 'Count.3', 'Flowering Months', 'Count.4',\n",
       "       'Height (feet)', 'Count.5', 'Showy', 'Count.6', 'Flower Color',\n",
       "       'Count.7'],\n",
       "      dtype='object')"
      ]
     },
     "execution_count": 20,
     "metadata": {},
     "output_type": "execute_result"
    }
   ],
   "source": [
    "df.columns"
   ]
  },
  {
   "cell_type": "code",
   "execution_count": 21,
   "metadata": {},
   "outputs": [],
   "source": [
    "_ = {}\n",
    "for col in df:\n",
    "    if not col.startswith(\"Count\"):\n",
    "        _[col] = get_unique_values(df,col)"
   ]
  },
  {
   "cell_type": "code",
   "execution_count": 22,
   "metadata": {},
   "outputs": [],
   "source": [
    "max_length = 0\n",
    "for key in _:\n",
    "    if len(_[key]) > max_length:\n",
    "        max_length = len(_[key])\n",
    "for key in _:\n",
    "    number_of_pads = max_length - len(_[key])\n",
    "    _[key] += [\"\"]*number_of_pads"
   ]
  },
  {
   "cell_type": "code",
   "execution_count": 24,
   "metadata": {},
   "outputs": [],
   "source": [
    "df = pd.DataFrame(_)\n",
    "for col in df:\n",
    "    df[col] = df[col].apply(lambda x: x.strip().title() if not isinstance(x,float) else x).drop_duplicates()\n",
    "df.to_csv(\"PA_UniqueUniqueValues.csv\",index=False)"
   ]
  },
  {
   "cell_type": "markdown",
   "metadata": {},
   "source": [
    "# Compare to CNP Values"
   ]
  },
  {
   "attachments": {},
   "cell_type": "markdown",
   "metadata": {},
   "source": [
    "Notes: \n",
    "\n",
    "* Column names don't change\n",
    "* The same inconsistencies (leading white space, capitalization) are present in CNP ERA (Data was not cleaned)"
   ]
  },
  {
   "cell_type": "code",
   "execution_count": 25,
   "metadata": {},
   "outputs": [],
   "source": [
    "source_data = pd.read_excel(\"../../../Data/Pennsylvania/CNP_PA_Full_10_27.xlsx\",sheet_name=\"ERA_PA\")"
   ]
  },
  {
   "cell_type": "code",
   "execution_count": 26,
   "metadata": {},
   "outputs": [
    {
     "data": {
      "text/plain": [
       "['Active Growth Period',\n",
       " 'Article Counts',\n",
       " 'Article Flag',\n",
       " 'Article Names',\n",
       " 'Available Flag',\n",
       " 'Bats',\n",
       " 'Beetles, Wasps, Flies',\n",
       " 'Benefits To Pollinators',\n",
       " 'Blurb',\n",
       " 'Bombus',\n",
       " 'Butterflies',\n",
       " 'Commercially Available',\n",
       " 'Common Name',\n",
       " 'Distribution in USA',\n",
       " 'Drought Tolerance',\n",
       " 'Fall Conspicuous',\n",
       " 'Fertility Requirement',\n",
       " 'Fire Tolerance',\n",
       " 'Flower Color',\n",
       " 'Flowering Months',\n",
       " 'Growth Form',\n",
       " 'Growth Rate',\n",
       " 'Hedge Tolerance',\n",
       " 'Height (feet)',\n",
       " 'Honey Bees',\n",
       " 'Hummingbirds',\n",
       " 'Larval Host (Butterfly)',\n",
       " 'Larval Host (Monarch)',\n",
       " 'Larval Host (Moth)',\n",
       " 'Larval Species (Lepidoptera)',\n",
       " 'Leaf Retention',\n",
       " 'Lifespan',\n",
       " 'Local Count',\n",
       " 'Local Flag',\n",
       " 'Local Names',\n",
       " 'Moisture Use',\n",
       " 'Monarchs',\n",
       " 'Moths',\n",
       " 'NATIVE',\n",
       " 'Native Bees (except Bombus)',\n",
       " 'Native Status',\n",
       " 'Nesting and Structure (Bees)',\n",
       " 'Online Counts',\n",
       " 'Online Flag',\n",
       " 'Online Names',\n",
       " 'Palatability (Browsing/Grazing)',\n",
       " 'Plant Family',\n",
       " 'Plant Type',\n",
       " 'Pollinator Value',\n",
       " 'Pollinators',\n",
       " 'Propagation',\n",
       " 'QUIZ_BEE',\n",
       " 'QUIZ_BUTTERFLY',\n",
       " 'QUIZ_FLOWER',\n",
       " 'QUIZ_HUMMINGBIRD',\n",
       " 'Quick Lookup',\n",
       " 'Recommendation Score',\n",
       " 'Resprout Ability',\n",
       " 'Salt Tolerance',\n",
       " 'Scientific Name',\n",
       " 'Shape and Orientation',\n",
       " 'Showy',\n",
       " 'Soil Moisture',\n",
       " 'Soil Texture',\n",
       " 'Sun Exposure',\n",
       " 'Super Plant',\n",
       " 'USDA Symbol',\n",
       " 'Wind',\n",
       " 'Workhorse',\n",
       " 'pH (Range)']"
      ]
     },
     "execution_count": 26,
     "metadata": {},
     "output_type": "execute_result"
    }
   ],
   "source": [
    "sorted(source_data.columns)"
   ]
  },
  {
   "cell_type": "code",
   "execution_count": 5,
   "metadata": {},
   "outputs": [],
   "source": [
    "relevant_columns = [\"Sun Exposure\",\"Soil Moisture\",\"Plant Type\",\"Pollinators\",\"Flowering Months\",\"Height (feet)\",\"Showy\",\"Flower Color\"]\n",
    "relevant_df = source_data[relevant_columns]\n",
    "\n",
    "full_df = None\n",
    "for col in relevant_df:\n",
    "    df = relevant_df[col].value_counts().reset_index()\n",
    "    df.columns = [df.columns[1],\"Count\"]\n",
    "    if full_df is not None:\n",
    "        full_df = pd.concat([full_df,df],axis=1)\n",
    "    else:\n",
    "        full_df = df\n",
    "\n",
    "_ = {}\n",
    "for col in full_df:\n",
    "    if not col.startswith(\"Count\"):\n",
    "        _[col] = get_unique_values(full_df,col)\n",
    "\n",
    "max_length = 0\n",
    "for key in _:\n",
    "    if len(_[key]) > max_length:\n",
    "        max_length = len(_[key])\n",
    "for key in _:\n",
    "    number_of_pads = max_length - len(_[key])\n",
    "    _[key] += [\"\"]*number_of_pads\n",
    "\n",
    "df = pd.DataFrame(_)\n",
    "for col in df:\n",
    "    df[col] = df[col].apply(lambda x: x.strip().title() if not isinstance(x,float) else x).drop_duplicates()\n",
    "\n",
    "df.to_csv(\"CNP_PA_UniqueUniqueValues.csv\",index=False)"
   ]
  }
 ],
 "metadata": {
  "kernelspec": {
   "display_name": "base",
   "language": "python",
   "name": "python3"
  },
  "language_info": {
   "codemirror_mode": {
    "name": "ipython",
    "version": 3
   },
   "file_extension": ".py",
   "mimetype": "text/x-python",
   "name": "python",
   "nbconvert_exporter": "python",
   "pygments_lexer": "ipython3",
   "version": "3.8.13"
  },
  "orig_nbformat": 4,
  "vscode": {
   "interpreter": {
    "hash": "212529ebce2f0387ea161e99e46b8847747ab3db2200338c377e9fc9dca056e7"
   }
  }
 },
 "nbformat": 4,
 "nbformat_minor": 2
}
