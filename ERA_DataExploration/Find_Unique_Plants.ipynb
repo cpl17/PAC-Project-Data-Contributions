{
 "cells": [
  {
   "cell_type": "markdown",
   "metadata": {},
   "source": [
    "The source data is an Excel sheet divided into Ecoregions. There are duplicate plants across these regions. The goal of this notebook is to reduce the data into unique instance of each plant, mainting the ecoregions as a list. "
   ]
  },
  {
   "cell_type": "code",
   "execution_count": 29,
   "metadata": {},
   "outputs": [],
   "source": [
    "import pandas as pd"
   ]
  },
  {
   "cell_type": "code",
   "execution_count": 30,
   "metadata": {},
   "outputs": [],
   "source": [
    "xl = pd.ExcelFile('.\\Data\\ERA_All.xlsx')"
   ]
  },
  {
   "cell_type": "code",
   "execution_count": 31,
   "metadata": {},
   "outputs": [
    {
     "name": "stdout",
     "output_type": "stream",
     "text": [
      "['Coast Range', 'Puget Lowland', 'Willamette Valley', 'Cascades', 'Sierra Nevada', 'Central California Foothills and Coastal Mountains', 'Central California Valley', 'Southern California Mountains', 'Eastern Cascades Slopes and Foothills', 'Columbia Plateau', 'Blue Mountains', 'Snake River Plain', 'Central Basin and Range', 'Mojave Basin and Range', 'Northern Rockies', 'Idaho Batholith', 'Middle Rockies', 'Wyoming Basin', 'Wasatch and Uinta Mountains', 'Colorado Plateaus', 'Southern Rockies', 'Arizona/New Mexico Plateau', 'Arizona/New Mexico Mountains', 'Chihuahuan Deserts', 'High Plains', 'Southwestern Tablelands', 'Central Great Plains', 'Flint Hills', 'Cross Timbers', 'Edwards Plateau', 'Southern Texas Plains', 'Texas Blackland Prairies', 'East Central Texas Plains', 'Western Gulf Coastal Plain', 'South Central Plains', 'Ouachita Mountains', 'Arkansas Valley', 'Boston Mountains', 'Ozark Highlands', 'Central Irregular Plains', 'Canadian Rockies', 'Northwestern Glaciated Plains', 'Northwestern Great Plains', 'Nebraska Sand Hills', 'Piedmont', 'Northern Glaciated Plains', 'Western Corn Belt Plains', 'Lake Agassiz Plain', 'Northern Minnesota Wetlands', 'Northern Lakes and Forests', 'North Central Hardwood Forests', 'Driftless Area', 'Southeastern Wisconsin Till Plains', 'Central Corn Belt Plains', 'Eastern Corn Belt Plains', 'Southern Michigan/Northern Indiana Drift Plains', 'Huron/Erie Lake Plains', 'Northeastern Highlands', 'Northeastern Coastal Zone', 'Northern Allegheny Plateau', 'Erie Drift Plain', 'North Central Appalachians', 'Middle Atlantic Coastal Plain', 'Northern Piedmont', 'Southeastern Plains', 'Blue Ridge', 'Ridge and Valley', 'Southwestern Appalachians', 'Central Appalachians', 'Western Allegheny Plateau', 'Interior Plateau', 'Interior River Valleys and Hills', 'Mississippi Alluvial Plain', 'Mississippi Valley Loess Plains', 'Southern Coastal Plain', 'Southern Florida Coastal Plain', 'North Cascades', 'Klamath Mountains/California High North Coast Range', 'Madrean Archipelago', 'Northern Basin and Range', 'Sonoran Basin and Range', 'Acadian Plains and Hills', 'Eastern Great Lakes Lowlands', 'Atlantic Coastal Pine Barrens', 'Southern California/Northern Baja Coast', 'Alaska', 'Hawaii']\n",
      "87\n"
     ]
    }
   ],
   "source": [
    "ecoregions = pd.read_excel(\".\\Data\\ERA_All.xlsx\",sheet_name=\"Ecoregions\",index_col=0)\n",
    "ecoregions = ecoregions.iloc[:,0].to_list()\n",
    "print(ecoregions)\n",
    "print(len(ecoregions))"
   ]
  },
  {
   "cell_type": "code",
   "execution_count": 32,
   "metadata": {},
   "outputs": [],
   "source": [
    "sheet_name_eco_region_map = {sheet_name:eco_region for sheet_name,eco_region in list(zip(xl.sheet_names[1:],ecoregions))}"
   ]
  },
  {
   "cell_type": "code",
   "execution_count": 33,
   "metadata": {},
   "outputs": [
    {
     "data": {
      "text/plain": [
       "{'1 - Coast Range': 'Coast Range',\n",
       " '2 - Puget Lowland': 'Puget Lowland',\n",
       " '3 - Willamette Valley': 'Willamette Valley',\n",
       " '4 - Cascades': 'Cascades',\n",
       " '5 - Sierra Nevada': 'Sierra Nevada',\n",
       " '6 - Central California Footh...': 'Central California Foothills and Coastal Mountains',\n",
       " '7 - Central California Valley': 'Central California Valley',\n",
       " '8 - Southern California Moun...': 'Southern California Mountains',\n",
       " '9 - Eastern Cascades Slopes ...': 'Eastern Cascades Slopes and Foothills',\n",
       " '10 - Columbia Plateau': 'Columbia Plateau',\n",
       " '11 - Blue Mountains': 'Blue Mountains',\n",
       " '12 - Snake River Plain': 'Snake River Plain',\n",
       " '13 - Central Basin and Range': 'Central Basin and Range',\n",
       " '14 - Mojave Basin and Range': 'Mojave Basin and Range',\n",
       " '15 - Northern Rockies': 'Northern Rockies',\n",
       " '16 - Idaho Batholith': 'Idaho Batholith',\n",
       " '17 - Middle Rockies': 'Middle Rockies',\n",
       " '18 - Wyoming Basin': 'Wyoming Basin',\n",
       " '19 - Wasatch and Uinta Mount...': 'Wasatch and Uinta Mountains',\n",
       " '20 - Colorado Plateaus': 'Colorado Plateaus',\n",
       " '21 - Southern Rockies': 'Southern Rockies',\n",
       " '22 - Arizona_New Mexico Plateau': 'Arizona/New Mexico Plateau',\n",
       " '23 - Arizona_New Mexico Moun...': 'Arizona/New Mexico Mountains',\n",
       " '24 - Chihuahuan Deserts': 'Chihuahuan Deserts',\n",
       " '25 - High Plains': 'High Plains',\n",
       " '26 - Southwestern Tablelands': 'Southwestern Tablelands',\n",
       " '27 - Central Great Plains': 'Central Great Plains',\n",
       " '28 - Flint Hills': 'Flint Hills',\n",
       " '29 - Cross Timbers': 'Cross Timbers',\n",
       " '30 - Edwards Plateau': 'Edwards Plateau',\n",
       " '31 - Southern Texas Plains': 'Southern Texas Plains',\n",
       " '32 - Texas Blackland Prairies': 'Texas Blackland Prairies',\n",
       " '33 - East Central Texas Plains': 'East Central Texas Plains',\n",
       " '34 - Western Gulf Coastal Plain': 'Western Gulf Coastal Plain',\n",
       " '35 - South Central Plains': 'South Central Plains',\n",
       " '36 - Ouachita Mountains': 'Ouachita Mountains',\n",
       " '37 - Arkansas Valley': 'Arkansas Valley',\n",
       " '38 - Boston Mountains': 'Boston Mountains',\n",
       " '39 - Ozark Highlands': 'Ozark Highlands',\n",
       " '40 - Central Irregular Plains': 'Central Irregular Plains',\n",
       " '41 - Canadian Rockies': 'Canadian Rockies',\n",
       " '42 - Northwestern Glaciated ...': 'Northwestern Glaciated Plains',\n",
       " '43 - Northwestern Great Plains': 'Northwestern Great Plains',\n",
       " '44 - Nebraska Sand Hills': 'Nebraska Sand Hills',\n",
       " '45 - Piedmont': 'Piedmont',\n",
       " '46 - Northern Glaciated Plains': 'Northern Glaciated Plains',\n",
       " '47 - Western Corn Belt Plains': 'Western Corn Belt Plains',\n",
       " '48 - Lake Agassiz Plain': 'Lake Agassiz Plain',\n",
       " '49 - Northern Minnesota Wetl...': 'Northern Minnesota Wetlands',\n",
       " '50 - Northern Lakes and Forests': 'Northern Lakes and Forests',\n",
       " '51 - North Central Hardwood ...': 'North Central Hardwood Forests',\n",
       " '52 - Driftless Area': 'Driftless Area',\n",
       " '53 - Southeastern Wisconsin ...': 'Southeastern Wisconsin Till Plains',\n",
       " '54 - Central Corn Belt Plains': 'Central Corn Belt Plains',\n",
       " '55 - Eastern Corn Belt Plains': 'Eastern Corn Belt Plains',\n",
       " '56 - Southern Michigan_North...': 'Southern Michigan/Northern Indiana Drift Plains',\n",
       " '57 - Huron_Erie Lake Plains': 'Huron/Erie Lake Plains',\n",
       " '58 - Northeastern Highlands': 'Northeastern Highlands',\n",
       " '59 - Northeastern Coastal Zone': 'Northeastern Coastal Zone',\n",
       " '60 - Northern Allegheny Plateau': 'Northern Allegheny Plateau',\n",
       " '61 - Erie Drift Plain': 'Erie Drift Plain',\n",
       " '62 - North Central Appalachians': 'North Central Appalachians',\n",
       " '63 - Middle Atlantic Coastal...': 'Middle Atlantic Coastal Plain',\n",
       " '64 - Northern Piedmont': 'Northern Piedmont',\n",
       " '65 - Southeastern Plains': 'Southeastern Plains',\n",
       " '66 - Blue Ridge': 'Blue Ridge',\n",
       " '67 - Ridge and Valley': 'Ridge and Valley',\n",
       " '68 - Southwestern Appalachians': 'Southwestern Appalachians',\n",
       " '69 - Central Appalachians': 'Central Appalachians',\n",
       " '70 - Western Allegheny Plateau': 'Western Allegheny Plateau',\n",
       " '71 - Interior Plateau': 'Interior Plateau',\n",
       " '72 - Interior River Valleys ...': 'Interior River Valleys and Hills',\n",
       " '73 - Mississippi Alluvial Plain': 'Mississippi Alluvial Plain',\n",
       " '74 - Mississippi Valley Loes...': 'Mississippi Valley Loess Plains',\n",
       " '75 - Southern Coastal Plain': 'Southern Coastal Plain',\n",
       " '76 - Southern Florida Coasta...': 'Southern Florida Coastal Plain',\n",
       " '77 - North Cascades': 'North Cascades',\n",
       " '78 - Klamath Mountains_Calif...': 'Klamath Mountains/California High North Coast Range',\n",
       " '79 - Madrean Archipelago': 'Madrean Archipelago',\n",
       " '80 - Northern Basin and Range': 'Northern Basin and Range',\n",
       " '81 - Sonoran Basin and Range': 'Sonoran Basin and Range',\n",
       " '82 - Acadian Plains and Hills': 'Acadian Plains and Hills',\n",
       " '83 - Eastern Great Lakes Low...': 'Eastern Great Lakes Lowlands',\n",
       " '84 - Atlantic Coastal Pine B...': 'Atlantic Coastal Pine Barrens',\n",
       " '85 - Southern California_Nor...': 'Southern California/Northern Baja Coast',\n",
       " 'Alaska': 'Alaska',\n",
       " 'Hawaii': 'Hawaii'}"
      ]
     },
     "execution_count": 33,
     "metadata": {},
     "output_type": "execute_result"
    }
   ],
   "source": [
    "sheet_name_eco_region_map"
   ]
  },
  {
   "cell_type": "code",
   "execution_count": 34,
   "metadata": {},
   "outputs": [],
   "source": [
    "empty_df = True\n",
    "for sheet_name in sheet_names[1:]:\n",
    "    data = pd.read_excel(\".\\Data\\ERA_All.xlsx\",sheet_name=sheet_name)\n",
    "\n",
    "        \n",
    "    data[\"EcoRegion\"] = sheet_name_eco_region_map[sheet_name] \n",
    "\n",
    "    if empty_df:\n",
    "        df = data\n",
    "        empty_df = False\n",
    "    else:\n",
    "        df = pd.concat([df,data],ignore_index=True)"
   ]
  },
  {
   "cell_type": "code",
   "execution_count": 35,
   "metadata": {},
   "outputs": [
    {
     "name": "stdout",
     "output_type": "stream",
     "text": [
      "(125998, 52)\n"
     ]
    }
   ],
   "source": [
    "print(df.shape)"
   ]
  },
  {
   "cell_type": "code",
   "execution_count": 36,
   "metadata": {},
   "outputs": [
    {
     "name": "stdout",
     "output_type": "stream",
     "text": [
      "Index(['Active Growth Period', 'Bats', 'Beetles, Wasps, Flies',\n",
      "       'Benefits To Pollinators', 'Bombus', 'Butterflies',\n",
      "       'Commercially Available', 'Common Name', 'Distribution in USA',\n",
      "       'Drought Tolerance', 'EcoRegion', 'Fall Conspicuous',\n",
      "       'Fertility Requirement', 'Fire Tolerance', 'Flower Color',\n",
      "       'Flowering Months', 'Growth Form', 'Growth Rate', 'Hedge Tolerance',\n",
      "       'Height (feet)', 'Honey Bees', 'Hummingbirds',\n",
      "       'Larval Host (Butterfly)', 'Larval Host (Monarch)',\n",
      "       'Larval Host (Moth)', 'Larval Species (Lepidoptera)', 'Leaf Retention',\n",
      "       'Lifespan', 'Moisture Use', 'Monarchs', 'Moths',\n",
      "       'Native Bees (except Bombus)', 'Native Status',\n",
      "       'Nesting and Structure (Bees)', 'Palatability (Browsing/Grazing)',\n",
      "       'Plant Family', 'Plant Type', 'Pollinator Value', 'Pollinators',\n",
      "       'Propagation', 'Resprout Ability', 'Salt Tolerance', 'Scientific Name',\n",
      "       'Shape and Orientation', 'Showy', 'Soil Moisture', 'Soil Texture',\n",
      "       'Sun Exposure', 'USDA Symbol', 'Wind', 'Workhorse', 'pH (Range)'],\n",
      "      dtype='object')\n"
     ]
    }
   ],
   "source": [
    "print(df.columns.sort_values())"
   ]
  },
  {
   "cell_type": "code",
   "execution_count": 37,
   "metadata": {},
   "outputs": [],
   "source": [
    "df_new = df.copy()\n",
    "df_new = df_new.drop_duplicates(subset=\"Scientific Name\")\n",
    "df_new.sort_values(by=\"Scientific Name\",inplace=True)\n",
    "df_new.reset_index(drop=True,inplace=True)\n"
   ]
  },
  {
   "cell_type": "code",
   "execution_count": 38,
   "metadata": {},
   "outputs": [
    {
     "data": {
      "text/plain": [
       "(5797, 52)"
      ]
     },
     "execution_count": 38,
     "metadata": {},
     "output_type": "execute_result"
    }
   ],
   "source": [
    "df_new.shape"
   ]
  },
  {
   "cell_type": "markdown",
   "metadata": {},
   "source": [
    "# Recover EcoRegion "
   ]
  },
  {
   "cell_type": "code",
   "execution_count": 39,
   "metadata": {},
   "outputs": [],
   "source": [
    "temp = df.groupby(\"Scientific Name\")[\"EcoRegion\"].apply('-'.join).reset_index()"
   ]
  },
  {
   "cell_type": "code",
   "execution_count": 40,
   "metadata": {},
   "outputs": [
    {
     "data": {
      "text/html": [
       "<div>\n",
       "<style scoped>\n",
       "    .dataframe tbody tr th:only-of-type {\n",
       "        vertical-align: middle;\n",
       "    }\n",
       "\n",
       "    .dataframe tbody tr th {\n",
       "        vertical-align: top;\n",
       "    }\n",
       "\n",
       "    .dataframe thead th {\n",
       "        text-align: right;\n",
       "    }\n",
       "</style>\n",
       "<table border=\"1\" class=\"dataframe\">\n",
       "  <thead>\n",
       "    <tr style=\"text-align: right;\">\n",
       "      <th></th>\n",
       "      <th>Scientific Name</th>\n",
       "      <th>EcoRegion</th>\n",
       "    </tr>\n",
       "  </thead>\n",
       "  <tbody>\n",
       "    <tr>\n",
       "      <th>0</th>\n",
       "      <td>Abies amabilis</td>\n",
       "      <td>Coast Range-Puget Lowland-Willamette Valley-Ca...</td>\n",
       "    </tr>\n",
       "    <tr>\n",
       "      <th>1</th>\n",
       "      <td>Abies balsamea</td>\n",
       "      <td>Western Corn Belt Plains-Lake Agassiz Plain-No...</td>\n",
       "    </tr>\n",
       "    <tr>\n",
       "      <th>2</th>\n",
       "      <td>Abies bracteata</td>\n",
       "      <td>Central California Foothills and Coastal Mount...</td>\n",
       "    </tr>\n",
       "    <tr>\n",
       "      <th>3</th>\n",
       "      <td>Abies concolor</td>\n",
       "      <td>Columbia Plateau-Blue Mountains-Snake River Pl...</td>\n",
       "    </tr>\n",
       "    <tr>\n",
       "      <th>4</th>\n",
       "      <td>Abies fraseri</td>\n",
       "      <td>Blue Ridge-Ridge and Valley</td>\n",
       "    </tr>\n",
       "  </tbody>\n",
       "</table>\n",
       "</div>"
      ],
      "text/plain": [
       "   Scientific Name                                          EcoRegion\n",
       "0   Abies amabilis  Coast Range-Puget Lowland-Willamette Valley-Ca...\n",
       "1   Abies balsamea  Western Corn Belt Plains-Lake Agassiz Plain-No...\n",
       "2  Abies bracteata  Central California Foothills and Coastal Mount...\n",
       "3   Abies concolor  Columbia Plateau-Blue Mountains-Snake River Pl...\n",
       "4    Abies fraseri                        Blue Ridge-Ridge and Valley"
      ]
     },
     "execution_count": 40,
     "metadata": {},
     "output_type": "execute_result"
    }
   ],
   "source": [
    "temp.head()"
   ]
  },
  {
   "cell_type": "code",
   "execution_count": 41,
   "metadata": {},
   "outputs": [
    {
     "data": {
      "text/html": [
       "<div>\n",
       "<style scoped>\n",
       "    .dataframe tbody tr th:only-of-type {\n",
       "        vertical-align: middle;\n",
       "    }\n",
       "\n",
       "    .dataframe tbody tr th {\n",
       "        vertical-align: top;\n",
       "    }\n",
       "\n",
       "    .dataframe thead th {\n",
       "        text-align: right;\n",
       "    }\n",
       "</style>\n",
       "<table border=\"1\" class=\"dataframe\">\n",
       "  <thead>\n",
       "    <tr style=\"text-align: right;\">\n",
       "      <th></th>\n",
       "      <th>Scientific Name</th>\n",
       "      <th>EcoRegion</th>\n",
       "    </tr>\n",
       "  </thead>\n",
       "  <tbody>\n",
       "    <tr>\n",
       "      <th>0</th>\n",
       "      <td>Abies amabilis</td>\n",
       "      <td>Coast Range</td>\n",
       "    </tr>\n",
       "    <tr>\n",
       "      <th>1</th>\n",
       "      <td>Abies balsamea</td>\n",
       "      <td>Western Corn Belt Plains</td>\n",
       "    </tr>\n",
       "    <tr>\n",
       "      <th>2</th>\n",
       "      <td>Abies bracteata</td>\n",
       "      <td>Central California Foothills and Coastal Mount...</td>\n",
       "    </tr>\n",
       "    <tr>\n",
       "      <th>3</th>\n",
       "      <td>Abies concolor</td>\n",
       "      <td>Columbia Plateau</td>\n",
       "    </tr>\n",
       "    <tr>\n",
       "      <th>4</th>\n",
       "      <td>Abies fraseri</td>\n",
       "      <td>Blue Ridge</td>\n",
       "    </tr>\n",
       "  </tbody>\n",
       "</table>\n",
       "</div>"
      ],
      "text/plain": [
       "   Scientific Name                                          EcoRegion\n",
       "0   Abies amabilis                                        Coast Range\n",
       "1   Abies balsamea                           Western Corn Belt Plains\n",
       "2  Abies bracteata  Central California Foothills and Coastal Mount...\n",
       "3   Abies concolor                                   Columbia Plateau\n",
       "4    Abies fraseri                                         Blue Ridge"
      ]
     },
     "execution_count": 41,
     "metadata": {},
     "output_type": "execute_result"
    }
   ],
   "source": [
    "df_new[[\"Scientific Name\",\"EcoRegion\"]].head()"
   ]
  },
  {
   "cell_type": "code",
   "execution_count": 42,
   "metadata": {},
   "outputs": [
    {
     "data": {
      "text/html": [
       "<div>\n",
       "<style scoped>\n",
       "    .dataframe tbody tr th:only-of-type {\n",
       "        vertical-align: middle;\n",
       "    }\n",
       "\n",
       "    .dataframe tbody tr th {\n",
       "        vertical-align: top;\n",
       "    }\n",
       "\n",
       "    .dataframe thead th {\n",
       "        text-align: right;\n",
       "    }\n",
       "</style>\n",
       "<table border=\"1\" class=\"dataframe\">\n",
       "  <thead>\n",
       "    <tr style=\"text-align: right;\">\n",
       "      <th></th>\n",
       "      <th>Scientific Name</th>\n",
       "      <th>EcoRegion</th>\n",
       "    </tr>\n",
       "  </thead>\n",
       "  <tbody>\n",
       "    <tr>\n",
       "      <th>0</th>\n",
       "      <td>Abies amabilis</td>\n",
       "      <td>Coast Range-Puget Lowland-Willamette Valley-Ca...</td>\n",
       "    </tr>\n",
       "    <tr>\n",
       "      <th>1</th>\n",
       "      <td>Abies balsamea</td>\n",
       "      <td>Western Corn Belt Plains-Lake Agassiz Plain-No...</td>\n",
       "    </tr>\n",
       "    <tr>\n",
       "      <th>2</th>\n",
       "      <td>Abies bracteata</td>\n",
       "      <td>Central California Foothills and Coastal Mount...</td>\n",
       "    </tr>\n",
       "    <tr>\n",
       "      <th>3</th>\n",
       "      <td>Abies concolor</td>\n",
       "      <td>Columbia Plateau-Blue Mountains-Snake River Pl...</td>\n",
       "    </tr>\n",
       "    <tr>\n",
       "      <th>4</th>\n",
       "      <td>Abies fraseri</td>\n",
       "      <td>Blue Ridge-Ridge and Valley</td>\n",
       "    </tr>\n",
       "    <tr>\n",
       "      <th>...</th>\n",
       "      <td>...</td>\n",
       "      <td>...</td>\n",
       "    </tr>\n",
       "    <tr>\n",
       "      <th>5792</th>\n",
       "      <td>Zizania aquatica</td>\n",
       "      <td>Western Gulf Coastal Plain-South Central Plain...</td>\n",
       "    </tr>\n",
       "    <tr>\n",
       "      <th>5793</th>\n",
       "      <td>Zizaniopsis miliacea</td>\n",
       "      <td>Central Great Plains-Cross Timbers-Edwards Pla...</td>\n",
       "    </tr>\n",
       "    <tr>\n",
       "      <th>5794</th>\n",
       "      <td>Zizia aptera</td>\n",
       "      <td>Coast Range-Puget Lowland-Willamette Valley-Ca...</td>\n",
       "    </tr>\n",
       "    <tr>\n",
       "      <th>5795</th>\n",
       "      <td>Zizia aurea</td>\n",
       "      <td>Middle Rockies-Central Great Plains-Flint Hill...</td>\n",
       "    </tr>\n",
       "    <tr>\n",
       "      <th>5796</th>\n",
       "      <td>Ziziphus obtusifolia</td>\n",
       "      <td>Southern California Mountains-Mojave Basin and...</td>\n",
       "    </tr>\n",
       "  </tbody>\n",
       "</table>\n",
       "<p>5797 rows × 2 columns</p>\n",
       "</div>"
      ],
      "text/plain": [
       "           Scientific Name                                          EcoRegion\n",
       "0           Abies amabilis  Coast Range-Puget Lowland-Willamette Valley-Ca...\n",
       "1           Abies balsamea  Western Corn Belt Plains-Lake Agassiz Plain-No...\n",
       "2          Abies bracteata  Central California Foothills and Coastal Mount...\n",
       "3           Abies concolor  Columbia Plateau-Blue Mountains-Snake River Pl...\n",
       "4            Abies fraseri                        Blue Ridge-Ridge and Valley\n",
       "...                    ...                                                ...\n",
       "5792      Zizania aquatica  Western Gulf Coastal Plain-South Central Plain...\n",
       "5793  Zizaniopsis miliacea  Central Great Plains-Cross Timbers-Edwards Pla...\n",
       "5794          Zizia aptera  Coast Range-Puget Lowland-Willamette Valley-Ca...\n",
       "5795           Zizia aurea  Middle Rockies-Central Great Plains-Flint Hill...\n",
       "5796  Ziziphus obtusifolia  Southern California Mountains-Mojave Basin and...\n",
       "\n",
       "[5797 rows x 2 columns]"
      ]
     },
     "execution_count": 42,
     "metadata": {},
     "output_type": "execute_result"
    }
   ],
   "source": [
    "temp"
   ]
  },
  {
   "cell_type": "code",
   "execution_count": 43,
   "metadata": {},
   "outputs": [],
   "source": [
    "df_new[\"EcoRegion\"] = temp[\"EcoRegion\"]"
   ]
  },
  {
   "cell_type": "code",
   "execution_count": 45,
   "metadata": {},
   "outputs": [],
   "source": [
    "df_new.to_csv(\"./Data/ERA_All_Unique.csv\")"
   ]
  }
 ],
 "metadata": {
  "kernelspec": {
   "display_name": "Python 3.8.13 ('base')",
   "language": "python",
   "name": "python3"
  },
  "language_info": {
   "codemirror_mode": {
    "name": "ipython",
    "version": 3
   },
   "file_extension": ".py",
   "mimetype": "text/x-python",
   "name": "python",
   "nbconvert_exporter": "python",
   "pygments_lexer": "ipython3",
   "version": "3.8.13"
  },
  "orig_nbformat": 4,
  "vscode": {
   "interpreter": {
    "hash": "212529ebce2f0387ea161e99e46b8847747ab3db2200338c377e9fc9dca056e7"
   }
  }
 },
 "nbformat": 4,
 "nbformat_minor": 2
}
