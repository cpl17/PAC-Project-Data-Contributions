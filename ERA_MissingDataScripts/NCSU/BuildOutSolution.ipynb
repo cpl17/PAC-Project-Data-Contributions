{
 "cells": [
  {
   "cell_type": "markdown",
   "metadata": {},
   "source": [
    "# Imports and Data"
   ]
  },
  {
   "cell_type": "code",
   "execution_count": 3,
   "metadata": {},
   "outputs": [],
   "source": [
    "import pandas as pd\n",
    "import requests\n",
    "import time\n",
    "from bs4 import BeautifulSoup\n",
    "\n",
    "import numpy as np"
   ]
  },
  {
   "cell_type": "code",
   "execution_count": 3,
   "metadata": {},
   "outputs": [],
   "source": [
    "BASE_URL = \"https://plants.ces.ncsu.edu/plants/\"\n",
    "HEADERS = {\n",
    "    \"Accept-Language\": \"en-US,en;q=0.9\",\n",
    "    \"User-Agent\": \"Chrome/87.0.4280.141\"\n",
    "}"
   ]
  },
  {
   "cell_type": "code",
   "execution_count": 4,
   "metadata": {},
   "outputs": [],
   "source": [
    "source_data = pd.read_excel(\"../../Data/ERA_Alabama.xlsx\",sheet_name=\"All Plants\")"
   ]
  },
  {
   "attachments": {},
   "cell_type": "markdown",
   "metadata": {},
   "source": [
    "# Scrape one plant"
   ]
  },
  {
   "cell_type": "code",
   "execution_count": 5,
   "metadata": {},
   "outputs": [],
   "source": [
    "# <ul class=\"list-group brick\">\n",
    "#      <li class=\"list-group-item\">\n",
    "#          <dl>\n",
    "#              <span class=\"group_name \">Attributes:</span>\n",
    "             \n",
    "#                  <dt>Genus:</dt>\n",
    "                 \n",
    "                     \n",
    "#                          <dd><span class=\"detail_display_attribute\">Camellia</span>"
   ]
  },
  {
   "cell_type": "code",
   "execution_count": 6,
   "metadata": {},
   "outputs": [],
   "source": [
    "# Get all ul\n",
    "\n",
    "full_url = BASE_URL + \"camellia-sasanqua\"\n",
    "response = requests.get(url = full_url, headers = HEADERS)\n",
    "page = response.text \n",
    "soup = BeautifulSoup(page,features='lxml')\n"
   ]
  },
  {
   "cell_type": "code",
   "execution_count": 7,
   "metadata": {},
   "outputs": [
    {
     "name": "stdout",
     "output_type": "stream",
     "text": [
      "Attributes:\n",
      "Whole Plant Traits:\n",
      "Cultural Conditions:\n",
      "Fruit:\n",
      "Flowers:\n",
      "Leaves:\n",
      "Stem:\n",
      "Landscape:\n"
     ]
    }
   ],
   "source": [
    "for group in soup.select(\"span.group_name\"):\n",
    "    print(group.text)"
   ]
  },
  {
   "cell_type": "code",
   "execution_count": 8,
   "metadata": {},
   "outputs": [],
   "source": [
    "for definition_list in soup.select(\"li.list-group-item dl\"):\n",
    "    text_list = definition_list.text.split(\"\\n\")\n",
    "    text_list.pop(0)\n",
    "    # print(text_list)\n",
    "    test_list = text_list"
   ]
  },
  {
   "cell_type": "code",
   "execution_count": 9,
   "metadata": {},
   "outputs": [
    {
     "data": {
      "text/plain": [
       "['Landscape:',\n",
       " 'Landscape Location:',\n",
       " 'Container',\n",
       " 'Recreational Play Area',\n",
       " 'Landscape Theme:',\n",
       " 'Asian Garden',\n",
       " \"Children's Garden\",\n",
       " 'Cottage Garden',\n",
       " 'Drought Tolerant Garden',\n",
       " 'English Garden',\n",
       " 'Garden for the Blind',\n",
       " 'Pollinator Garden',\n",
       " 'Winter Garden',\n",
       " 'Design Feature:',\n",
       " 'Accent',\n",
       " 'Border',\n",
       " 'Flowering Tree',\n",
       " 'Foundation Planting',\n",
       " 'Hedge',\n",
       " 'Screen/Privacy',\n",
       " 'Small Tree',\n",
       " 'Attracts:',\n",
       " 'Pollinators',\n",
       " 'Songbirds',\n",
       " 'Resistance To Challenges:',\n",
       " 'Deer',\n",
       " 'Drought',\n",
       " 'Salt',\n",
       " 'Problems:',\n",
       " 'Frequent Disease Problems',\n",
       " 'Frequent Insect Problems',\n",
       " '']"
      ]
     },
     "execution_count": 9,
     "metadata": {},
     "output_type": "execute_result"
    }
   ],
   "source": [
    "test_list"
   ]
  },
  {
   "cell_type": "code",
   "execution_count": 10,
   "metadata": {},
   "outputs": [],
   "source": [
    "def create_dict(lst):\n",
    "\n",
    "    '''This function will iterate through the list and create a new key-value pair in the dictionary\n",
    "    whenever it encounters an element with a colon in it. This excludes the first element which will be \n",
    "    the outer key of the dictionary. \n",
    "    \n",
    "    The value for each key will be a list of all the\n",
    "    elements after the key element until the next element with a colon.'''\n",
    "    \n",
    "    #Set outer key as the group name (i.e. \"Attributes\")\n",
    "    group_name = lst[0]\n",
    "    result = {group_name:{}}\n",
    "    \n",
    "\n",
    "    current_key = None\n",
    "    current_value = []\n",
    "    for item in lst:\n",
    "        if item == group_name:\n",
    "            continue\n",
    "        \n",
    "        if ':' in item:\n",
    "\n",
    "            #Edge Cases\n",
    "            \n",
    "            if item.startswith(\"Height:\") | item.startswith(\"Width:\"):\n",
    "                current_value.append(item)\n",
    "                continue\n",
    "\n",
    "            #Set the previous key's values to the current list of values\n",
    "            if current_key:\n",
    "                result[group_name][current_key] = current_value\n",
    "            \n",
    "            #Reset key and value list\n",
    "            current_key = item\n",
    "            current_value = []\n",
    "        else:\n",
    "            \n",
    "            #THIS COULD CAUSE PROBLEMS\n",
    "            if item != \"\":\n",
    "                current_value.append(item)\n",
    "\n",
    "    result[group_name][current_key] = current_value\n",
    "\n",
    "    #Join the list into a string \n",
    "    for key in result[group_name].keys():\n",
    "        result[group_name][key] = \"|\".join(result[group_name][key])\n",
    "\n",
    "    # result[group_name] = {key.replace(\":\",\"\"): value for key, value in result[group_name].items()}\n",
    "\n",
    "\n",
    "    return result\n",
    "\n",
    "plant_dict = create_dict(test_list)\n",
    "\n"
   ]
  },
  {
   "cell_type": "code",
   "execution_count": 11,
   "metadata": {},
   "outputs": [
    {
     "name": "stdout",
     "output_type": "stream",
     "text": [
      "{'Attributes:': {'Genus:': 'Camellia', 'Species:': 'sasanqua', 'Family:': 'Theaceae', 'Life Cycle:': 'Woody', 'Country Or Region Of Origin:': 'Japan', 'Play Value:': 'Attractive Flowers|Attracts Pollinators|Fragrance|Wildlife Cover/Habitat|Wildlife Food Source', 'Particularly Resistant To (Insects/Diseases/Other Problems):': 'Resistant to Phytophthora root rot.', 'Dimensions:': 'Height: 6 ft. 0 in. - 14 ft. 0 in.|Width: 5 ft. 0 in. - 7 ft. 0 in.'}}\n",
      "{'Whole Plant Traits:': {'Plant Type:': 'Shrub|Tree', 'Woody Plant Leaf Characteristics:': 'Broadleaf Evergreen', 'Habit/Form:': 'Arching|Erect|Open|Oval|Pyramidal', 'Growth Rate:': 'Rapid', 'Maintenance:': 'Low|Medium', 'Texture:': 'Medium'}}\n",
      "{'Cultural Conditions:': {'Light:': 'Full sun (6 or more hours of direct sunlight a day)|Partial Shade (Direct sunlight only part of the day, 2-6 hours)', 'Soil Texture:': 'Clay|High Organic Matter|Loam (Silt)|Sand', 'Soil pH:': 'Acid (<6.0)|Neutral (6.0-8.0)', 'Soil Drainage:': 'Good Drainage|Moist|Occasionally Dry|Occasionally Wet', 'Available Space To Plant:': '6-feet-12 feet', 'NC Region:': 'Coastal|Piedmont', 'USDA Plant Hardiness Zone:': '7a, 7b, 8a, 8b, 9a, 9b'}}\n",
      "{'Fruit:': {'Display/Harvest Time:': 'Fall', 'Fruit Type:': 'Capsule', 'Fruit Length:': '< 1 inch', 'Fruit Description:': 'A loculicidal woody capsule, 1\".'}}\n",
      "{'Flowers:': {'Flower Color:': 'Cream/Tan|Gold/Yellow|Pink|Red/Burgundy|Variegated|White', 'Flower Inflorescence:': 'Solitary', 'Flower Value To Gardener:': 'Fragrant|Showy', 'Flower Bloom Time:': 'Fall|Winter', 'Flower Shape:': 'Saucer', 'Flower Petals:': '7 - 20 petals/rays', 'Flower Size:': '1-3 inches', 'Flower Description:': 'Large 2-3 in. single or double white, pink or red fragrant flowers from late fall to early winter. Solitary (rarely 2 or 3 together), white, pink, red and color combinations thereof, usually singles, in axils petals are ruffly and fluted, with central yellow stamens.  Flowers last only a few days before dropping so they do not make good cut flowers.'}}\n",
      "{'Leaves:': {'Woody Plant Leaf Characteristics:': 'Broadleaf Evergreen', 'Leaf Color:': 'Brown/Copper|Green', 'Leaf Feel:': 'Glossy|Leathery', 'Leaf Value To Gardener:': 'Long-lasting', 'Leaf Type:': 'Simple', 'Leaf Arrangement:': 'Alternate', 'Leaf Shape:': 'Elliptical|Ovate', 'Leaf Margin:': 'Crenate', 'Hairs Present:': 'No', 'Leaf Length:': '1-3 inches', 'Leaf Width:': '1-3 inches', 'Leaf Description:': 'Alternate, simple, lustrous, dark green leaves new growth sometimes emerges bronze; 1.5-3 in. long. Ovate to elliptical, crenate, acute apex.  Leaves are very thick and leathery almost to the point of feeling fake.'}}\n",
      "{'Stem:': {'Stem Color:': 'Purple/Lavender|Red/Burgundy', 'Stem Is Aromatic:': 'No', 'Stem Description:': 'Slender, often reddish to purplish when young.'}}\n",
      "{'Landscape:': {'Landscape Location:': 'Container|Recreational Play Area', 'Landscape Theme:': \"Asian Garden|Children's Garden|Cottage Garden|Drought Tolerant Garden|English Garden|Garden for the Blind|Pollinator Garden|Winter Garden\", 'Design Feature:': 'Accent|Border|Flowering Tree|Foundation Planting|Hedge|Screen/Privacy|Small Tree', 'Attracts:': 'Pollinators|Songbirds', 'Resistance To Challenges:': 'Deer|Drought|Salt', 'Problems:': 'Frequent Disease Problems|Frequent Insect Problems'}}\n"
     ]
    }
   ],
   "source": [
    "for definition_list in soup.select(\"li.list-group-item dl\"):\n",
    "    text_list = definition_list.text.split(\"\\n\")\n",
    "    text_list.pop(0)\n",
    "    plant_dict = create_dict(text_list)\n",
    "    print(plant_dict)"
   ]
  },
  {
   "cell_type": "code",
   "execution_count": 40,
   "metadata": {},
   "outputs": [
    {
     "name": "stdout",
     "output_type": "stream",
     "text": [
      "{'Camellia sasanqua': {'Genus:': 'Camellia', 'Species:': 'sasanqua', 'Family:': 'Theaceae', 'Life Cycle:': 'Woody', 'Country Or Region Of Origin:': 'Japan', 'Play Value:': 'Attractive Flowers|Attracts Pollinators|Fragrance|Wildlife Cover/Habitat|Wildlife Food Source', 'Particularly Resistant To (Insects/Diseases/Other Problems):': 'Resistant to Phytophthora root rot.', 'Dimensions:': 'Height: 6 ft. 0 in. - 14 ft. 0 in.|Width: 5 ft. 0 in. - 7 ft. 0 in.', 'Plant Type:': 'Shrub|Tree', 'Woody Plant Leaf Characteristics:': 'Broadleaf Evergreen', 'Habit/Form:': 'Arching|Erect|Open|Oval|Pyramidal', 'Growth Rate:': 'Rapid', 'Maintenance:': 'Low|Medium', 'Texture:': 'Medium', 'Light:': 'Full sun (6 or more hours of direct sunlight a day)|Partial Shade (Direct sunlight only part of the day, 2-6 hours)', 'Soil Texture:': 'Clay|High Organic Matter|Loam (Silt)|Sand', 'Soil pH:': 'Acid (<6.0)|Neutral (6.0-8.0)', 'Soil Drainage:': 'Good Drainage|Moist|Occasionally Dry|Occasionally Wet', 'Available Space To Plant:': '6-feet-12 feet', 'NC Region:': 'Coastal|Piedmont', 'USDA Plant Hardiness Zone:': '7a, 7b, 8a, 8b, 9a, 9b', 'Display/Harvest Time:': 'Fall', 'Fruit Type:': 'Capsule', 'Fruit Length:': '< 1 inch', 'Fruit Description:': 'A loculicidal woody capsule, 1\".', 'Flower Color:': 'Cream/Tan|Gold/Yellow|Pink|Red/Burgundy|Variegated|White', 'Flower Inflorescence:': 'Solitary', 'Flower Value To Gardener:': 'Fragrant|Showy', 'Flower Bloom Time:': 'Fall|Winter', 'Flower Shape:': 'Saucer', 'Flower Petals:': '7 - 20 petals/rays', 'Flower Size:': '1-3 inches', 'Flower Description:': 'Large 2-3 in. single or double white, pink or red fragrant flowers from late fall to early winter. Solitary (rarely 2 or 3 together), white, pink, red and color combinations thereof, usually singles, in axils petals are ruffly and fluted, with central yellow stamens.  Flowers last only a few days before dropping so they do not make good cut flowers.', 'Leaf Color:': 'Brown/Copper|Green', 'Leaf Feel:': 'Glossy|Leathery', 'Leaf Value To Gardener:': 'Long-lasting', 'Leaf Type:': 'Simple', 'Leaf Arrangement:': 'Alternate', 'Leaf Shape:': 'Elliptical|Ovate', 'Leaf Margin:': 'Crenate', 'Hairs Present:': 'No', 'Leaf Length:': '1-3 inches', 'Leaf Width:': '1-3 inches', 'Leaf Description:': 'Alternate, simple, lustrous, dark green leaves new growth sometimes emerges bronze; 1.5-3 in. long. Ovate to elliptical, crenate, acute apex.  Leaves are very thick and leathery almost to the point of feeling fake.', 'Stem Color:': 'Purple/Lavender|Red/Burgundy', 'Stem Is Aromatic:': 'No', 'Stem Description:': 'Slender, often reddish to purplish when young.', 'Landscape Location:': 'Container|Recreational Play Area', 'Landscape Theme:': \"Asian Garden|Children's Garden|Cottage Garden|Drought Tolerant Garden|English Garden|Garden for the Blind|Pollinator Garden|Winter Garden\", 'Design Feature:': 'Accent|Border|Flowering Tree|Foundation Planting|Hedge|Screen/Privacy|Small Tree', 'Attracts:': 'Pollinators|Songbirds', 'Resistance To Challenges:': 'Deer|Drought|Salt', 'Problems:': 'Frequent Disease Problems|Frequent Insect Problems'}}\n"
     ]
    }
   ],
   "source": [
    "all_groups = soup.select(\"li.list-group-item dl\")\n",
    "plant_dicts = [create_dict(x) for x in [group.text.split(\"\\n\")[1:] for group in all_groups]]\n",
    "\n",
    "full_plant_dict = {\"Camellia sasanqua\":{}}\n",
    "for plant_dict in plant_dicts:\n",
    "    for kv_dict in plant_dict.values():\n",
    "        full_plant_dict[\"Camellia sasanqua\"].update(kv_dict)\n",
    "print(full_plant_dict)"
   ]
  },
  {
   "cell_type": "markdown",
   "metadata": {},
   "source": [
    "# Take approach on sample of 5"
   ]
  },
  {
   "cell_type": "code",
   "execution_count": 77,
   "metadata": {},
   "outputs": [
    {
     "name": "stdout",
     "output_type": "stream",
     "text": [
      "['acacia-farnesiana', 'acalypha-rhomboidea', 'acalypha-virginica', 'acer-floridanum', 'acer-negundo', 'acer-nigrum', 'acer-rubrum', 'acer-saccharinum', 'acer-saccharum', 'acer-spicatum', 'achillea-millefolium', 'acmella-oppositifolia', 'aconitum-uncinatum', 'actaea-pachypoda', 'actaea-racemosa', 'adiantum-capillus-veneris', 'adiantum-pedatum', 'aeschynomene-americana', 'aeschynomene-viscidula', 'aesculus-flava']\n"
     ]
    }
   ],
   "source": [
    "names = [\"-\".join(name.split()).lower() for name in source_data[\"Scientific Name\"]]\n",
    "sample =names[:20]\n",
    "print(sample)"
   ]
  },
  {
   "cell_type": "code",
   "execution_count": 1,
   "metadata": {},
   "outputs": [],
   "source": [
    "all_full_plant_dicts = []\n",
    "\n",
    "for name in sample:\n",
    "    full_url = BASE_URL + name\n",
    "    response = requests.get(url = full_url, headers = HEADERS)\n",
    "    page = response.text \n",
    "    soup = BeautifulSoup(page,features='lxml')\n",
    "\n",
    "    all_groups = soup.select(\"li.list-group-item dl\")\n",
    "\n",
    "    if len(all_groups) == 0:\n",
    "        continue\n",
    "\n",
    "    plant_dicts = [create_dict(x) for x in [group.text.split(\"\\n\")[1:] for group in all_groups]]\n",
    "\n",
    "\n",
    "    \n",
    "    full_plant_dict = {name:{}}\n",
    "    for plant_dict in plant_dicts:\n",
    "        for kv_dict in plant_dict.values():\n",
    "            full_plant_dict[name].update(kv_dict)\n",
    "\n",
    "    print(len(full_plant_dict[name].keys()))\n",
    "\n",
    "    all_full_plant_dicts.append(full_plant_dict)\n",
    "\n",
    "    with open(\"Backup.txt\",'w') as f:\n",
    "        json_string = json.dumps([df.to_dict() for df in dfs])\n",
    "        f.write(json_string)\n",
    "\n",
    "\n",
    "\n",
    "list_of_dfs = None\n",
    "for full_plant_dict in all_full_plant_dicts:\n",
    "    df = pd.DataFrame.from_dict(full_plant_dict, orient='index')\n",
    "    if list_of_dfs:\n",
    "        list_of_dfs.append(df)\n",
    "    else:\n",
    "        list_of_dfs = [df]\n",
    "\n",
    "full_df = pd.concat(list_of_dfs)\n",
    "full_df.to_csv(\"Test2.csv\")\n"
   ]
  },
  {
   "cell_type": "code",
   "execution_count": 81,
   "metadata": {},
   "outputs": [
    {
     "name": "stdout",
     "output_type": "stream",
     "text": [
      "86\n"
     ]
    }
   ],
   "source": [
    "print(len(full_df.columns))"
   ]
  },
  {
   "cell_type": "markdown",
   "metadata": {},
   "source": [
    "# Run on all"
   ]
  },
  {
   "cell_type": "code",
   "execution_count": null,
   "metadata": {},
   "outputs": [],
   "source": []
  },
  {
   "attachments": {},
   "cell_type": "markdown",
   "metadata": {},
   "source": [
    "# Multi Index Columns\n",
    "\n",
    "Want to find a way to maintain groupings using Multi-Index. \n",
    "\n",
    "Note: This code is left in as a reference for later. To make this work, you can only append a tuple if the key is in the columns of a df = pd.read_csv(\"NCSU_Formatted.csv\")"
   ]
  },
  {
   "cell_type": "code",
   "execution_count": 30,
   "metadata": {},
   "outputs": [],
   "source": [
    "df = pd.DataFrame.from_dict(full_plant_dict, orient='index') #This can be a df read in from NCSU_unedited"
   ]
  },
  {
   "cell_type": "code",
   "execution_count": 31,
   "metadata": {},
   "outputs": [
    {
     "name": "stdout",
     "output_type": "stream",
     "text": [
      "                     Genus:  Species:   Family: Life Cycle:\n",
      "Camellia sasanqua  Camellia  sasanqua  Theaceae       Woody\n"
     ]
    }
   ],
   "source": [
    "print(df.iloc[:,:4])"
   ]
  },
  {
   "cell_type": "code",
   "execution_count": 42,
   "metadata": {},
   "outputs": [
    {
     "name": "stdout",
     "output_type": "stream",
     "text": [
      "54\n"
     ]
    }
   ],
   "source": [
    "full_plant_dict_by_groups = {\"Camellia sasanqua\":{}}\n",
    "for plant_dict in plant_dicts:\n",
    "    full_plant_dict_by_groups[\"Camellia sasanqua\"].update(plant_dict)\n",
    "\n",
    "\n",
    "temp = full_plant_dict_by_groups[\"Camellia sasanqua\"]\n",
    "\n",
    "multi_index_tuples = []\n",
    "\n",
    "for outer_key, outer_value in temp.items():\n",
    "    for inner_key,inner_value in outer_value.items():\n",
    "        if inner_value != \"\":\n",
    "            multi_index_tuples.append((outer_key,inner_key))\n",
    "\n",
    "print(len(multi_index_tuples))\n",
    "\n"
   ]
  },
  {
   "cell_type": "code",
   "execution_count": 58,
   "metadata": {},
   "outputs": [
    {
     "name": "stdout",
     "output_type": "stream",
     "text": [
      "('Whole Plant Traits:', 'Woody Plant Leaf Characteristics:')\n",
      "['Flower Color:', 'Flower Inflorescence:', 'Flower Value To Gardener:', 'Flower Bloom Time:', 'Flower Shape:', 'Flower Petals:', 'Flower Size:', 'Flower Description:', 'Landscape Location:', 'Landscape Theme:', 'Design Feature:', 'Attracts:', 'Resistance To Challenges:', 'Problems:', 'Display/Harvest Time:', 'Fruit Type:', 'Fruit Length:', 'Fruit Description:', 'Genus:', 'Species:', 'Family:', 'Life Cycle:', 'Country Or Region Of Origin:', 'Play Value:', 'Particularly Resistant To (Insects/Diseases/Other Problems):', 'Dimensions:', 'Woody Plant Leaf Characteristics:', 'Leaf Color:', 'Leaf Feel:', 'Leaf Value To Gardener:', 'Leaf Type:', 'Leaf Arrangement:', 'Leaf Shape:', 'Leaf Margin:', 'Hairs Present:', 'Leaf Length:', 'Leaf Width:', 'Leaf Description:', 'Light:', 'Soil Texture:', 'Soil pH:', 'Soil Drainage:', 'Available Space To Plant:', 'NC Region:', 'USDA Plant Hardiness Zone:', 'Stem Color:', 'Stem Is Aromatic:', 'Stem Description:', 'Plant Type:', 'Woody Plant Leaf Characteristics:', 'Growth Rate:', 'Maintenance:', 'Texture:']\n"
     ]
    }
   ],
   "source": [
    "seen = []\n",
    "for pair in multi_index_tuples:\n",
    "    if pair[1] in seen:\n",
    "        print(pair)\n",
    "        multi_index_tuples.remove(pair)\n",
    "    seen.append(pair[1])\n",
    "print(seen)"
   ]
  },
  {
   "cell_type": "code",
   "execution_count": 59,
   "metadata": {},
   "outputs": [
    {
     "name": "stdout",
     "output_type": "stream",
     "text": [
      "53\n"
     ]
    }
   ],
   "source": [
    "print(len(multi_index_tuples))"
   ]
  },
  {
   "cell_type": "code",
   "execution_count": 60,
   "metadata": {},
   "outputs": [],
   "source": [
    "df.columns = pd.MultiIndex.from_tuples(multi_index_tuples)"
   ]
  },
  {
   "cell_type": "code",
   "execution_count": 27,
   "metadata": {},
   "outputs": [
    {
     "name": "stdout",
     "output_type": "stream",
     "text": [
      "                  Attributes:                                \n",
      "                       Genus:  Species:   Family: Life Cycle:\n",
      "Camellia sasanqua    Camellia  sasanqua  Theaceae       Woody\n"
     ]
    }
   ],
   "source": [
    "print(df.iloc[:,:4])"
   ]
  },
  {
   "cell_type": "code",
   "execution_count": null,
   "metadata": {},
   "outputs": [],
   "source": [
    "with open(\"GC_pairings.txt\",\"w\") as f:\n",
    "    for tup in multi_index_tuples:\n",
    "        f.write(str(tup) + \"\\n\")"
   ]
  }
 ],
 "metadata": {
  "kernelspec": {
   "display_name": "base",
   "language": "python",
   "name": "python3"
  },
  "language_info": {
   "codemirror_mode": {
    "name": "ipython",
    "version": 3
   },
   "file_extension": ".py",
   "mimetype": "text/x-python",
   "name": "python",
   "nbconvert_exporter": "python",
   "pygments_lexer": "ipython3",
   "version": "3.8.13"
  },
  "orig_nbformat": 4,
  "vscode": {
   "interpreter": {
    "hash": "212529ebce2f0387ea161e99e46b8847747ab3db2200338c377e9fc9dca056e7"
   }
  }
 },
 "nbformat": 4,
 "nbformat_minor": 2
}
