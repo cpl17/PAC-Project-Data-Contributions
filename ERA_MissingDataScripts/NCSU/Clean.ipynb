{
 "cells": [
  {
   "cell_type": "markdown",
   "metadata": {},
   "source": [
    "# Imports and Data"
   ]
  },
  {
   "cell_type": "code",
   "execution_count": 3,
   "metadata": {},
   "outputs": [],
   "source": [
    "import pandas as pd"
   ]
  },
  {
   "cell_type": "code",
   "execution_count": 4,
   "metadata": {},
   "outputs": [],
   "source": [
    "source_data = pd.read_excel(\"../../Data/ERA_Alabama.xlsx\",sheet_name=\"All Plants\")"
   ]
  },
  {
   "attachments": {},
   "cell_type": "markdown",
   "metadata": {},
   "source": [
    "# MultiIndex Columns (From GC Pairings)\n",
    "\n",
    "Does not work. Must update code in build out solution"
   ]
  },
  {
   "cell_type": "code",
   "execution_count": 7,
   "metadata": {},
   "outputs": [
    {
     "name": "stdout",
     "output_type": "stream",
     "text": [
      "639\n"
     ]
    }
   ],
   "source": [
    "pairings = []\n",
    "with open(\"GC_pairings.txt\") as f:\n",
    "    for line in f.readlines()[:100]:\n",
    "        line = eval(line.replace(\"\\n\",\"\"))\n",
    "        pairings += line\n",
    "\n",
    "print(len(pairings))"
   ]
  },
  {
   "cell_type": "code",
   "execution_count": 9,
   "metadata": {},
   "outputs": [],
   "source": [
    "unique_pairings = list(set(pairings))"
   ]
  },
  {
   "cell_type": "code",
   "execution_count": 10,
   "metadata": {},
   "outputs": [
    {
     "data": {
      "text/plain": [
       "[('Attributes:', 'Country Or Region Of Origin:'),\n",
       " ('Attributes:', 'Dimensions:'),\n",
       " ('Attributes:', 'Distribution:'),\n",
       " ('Attributes:', 'Edibility:'),\n",
       " ('Attributes:', 'Family:'),\n",
       " ('Attributes:', 'Fire Risk Rating:'),\n",
       " ('Attributes:', 'Genus:'),\n",
       " ('Attributes:',\n",
       "  'Leaves are bitter, but can be eaten raw or cooked. To make a tea, soak leaves in warm water to remove dirt and debris. Do not use dish detergent or any type of sanitizer. These products can leave a residue. Chop leaves and steep in hot water for 10 minutes. Drink as a tea. SOURCE: Crowhurst, A. 1972. The Weed Cookbook. Lancer Books, Inc. New York, 190 pp.'),\n",
       " ('Attributes:', 'Life Cycle:'),\n",
       " ('Attributes:',\n",
       "  'Particularly Resistant To (Insects/Diseases/Other Problems):'),\n",
       " ('Attributes:', 'Play Value:'),\n",
       " ('Attributes:', 'Recommended Propagation Strategy:'),\n",
       " ('Attributes:', 'Species:'),\n",
       " ('Attributes:', 'Uses (Ethnobotany):'),\n",
       " ('Attributes:', 'Wildlife Value:'),\n",
       " ('Bark:', 'Bark Color:'),\n",
       " ('Bark:', 'Bark Description:'),\n",
       " ('Bark:', 'Bark Plate Shape:'),\n",
       " ('Bark:', 'Surface/Attachment:'),\n",
       " ('Cultural Conditions:', 'Available Space To Plant:'),\n",
       " ('Cultural Conditions:', 'Light:'),\n",
       " ('Cultural Conditions:', 'NC Region:'),\n",
       " ('Cultural Conditions:', 'Soil Drainage:'),\n",
       " ('Cultural Conditions:', 'Soil Texture:'),\n",
       " ('Cultural Conditions:', 'Soil pH:'),\n",
       " ('Cultural Conditions:', 'USDA Plant Hardiness Zone:'),\n",
       " ('Flowers:', 'Flower Bloom Time:'),\n",
       " ('Flowers:', 'Flower Color:'),\n",
       " ('Flowers:', 'Flower Description:'),\n",
       " ('Flowers:', 'Flower Inflorescence:'),\n",
       " ('Flowers:', 'Flower Petals:'),\n",
       " ('Flowers:', 'Flower Shape:'),\n",
       " ('Flowers:', 'Flower Size:'),\n",
       " ('Flowers:', 'Flower Value To Gardener:'),\n",
       " ('Fruit:', 'Display/Harvest Time:'),\n",
       " ('Fruit:', 'Fruit Color:'),\n",
       " ('Fruit:', 'Fruit Description:'),\n",
       " ('Fruit:', 'Fruit Length:'),\n",
       " ('Fruit:', 'Fruit Type:'),\n",
       " ('Fruit:', 'Fruit Value To Gardener:'),\n",
       " ('Fruit:', 'Fruit Width:'),\n",
       " ('Landscape:', 'Attracts:'),\n",
       " ('Landscape:', 'Design Feature:'),\n",
       " ('Landscape:', 'Landscape Location:'),\n",
       " ('Landscape:', 'Landscape Theme:'),\n",
       " ('Landscape:', 'Problems:'),\n",
       " ('Landscape:', 'Resistance To Challenges:'),\n",
       " ('Leaves:', 'Deciduous Leaf Fall Color:'),\n",
       " ('Leaves:', 'Hairs Present:'),\n",
       " ('Leaves:', 'Leaf Arrangement:'),\n",
       " ('Leaves:', 'Leaf Color:'),\n",
       " ('Leaves:', 'Leaf Description:'),\n",
       " ('Leaves:', 'Leaf Feel:'),\n",
       " ('Leaves:', 'Leaf Length:'),\n",
       " ('Leaves:', 'Leaf Margin:'),\n",
       " ('Leaves:', 'Leaf Shape:'),\n",
       " ('Leaves:', 'Leaf Type:'),\n",
       " ('Leaves:', 'Leaf Value To Gardener:'),\n",
       " ('Leaves:', 'Leaf Width:'),\n",
       " ('Leaves:', 'Woody Plant Leaf Characteristics:'),\n",
       " ('Poisonous to Humans:', 'Causes Contact Dermatitis:'),\n",
       " ('Poisonous to Humans:', 'Poison Part:'),\n",
       " ('Poisonous to Humans:', 'Poison Severity:'),\n",
       " ('Poisonous to Humans:', 'Poison Symptoms:'),\n",
       " ('Poisonous to Humans:', 'Poison Toxic Principle:'),\n",
       " ('Stem:', 'Stem Bud Scales:'),\n",
       " ('Stem:', 'Stem Bud Terminal:'),\n",
       " ('Stem:', 'Stem Buds:'),\n",
       " ('Stem:', 'Stem Color:'),\n",
       " ('Stem:', 'Stem Cross Section:'),\n",
       " ('Stem:', 'Stem Description:'),\n",
       " ('Stem:', 'Stem Form:'),\n",
       " ('Stem:', 'Stem Is Aromatic:'),\n",
       " ('Stem:', 'Stem Leaf Scar Shape:'),\n",
       " ('Stem:', 'Stem Lenticels:'),\n",
       " ('Stem:', 'Stem Surface:'),\n",
       " ('Whole Plant Traits:', 'Growth Rate:'),\n",
       " ('Whole Plant Traits:', 'Habit/Form:'),\n",
       " ('Whole Plant Traits:', 'Maintenance:'),\n",
       " ('Whole Plant Traits:', 'Plant Type:'),\n",
       " ('Whole Plant Traits:', 'Texture:'),\n",
       " ('Whole Plant Traits:', 'Woody Plant Leaf Characteristics:')]"
      ]
     },
     "execution_count": 10,
     "metadata": {},
     "output_type": "execute_result"
    }
   ],
   "source": [
    "sorted(unique_pairings)"
   ]
  },
  {
   "cell_type": "markdown",
   "metadata": {},
   "source": [
    "# Cleaning "
   ]
  },
  {
   "cell_type": "code",
   "execution_count": 28,
   "metadata": {},
   "outputs": [],
   "source": [
    "df = pd.read_csv(\"NCSU_Unedited.csv\",index_col=0)"
   ]
  },
  {
   "cell_type": "code",
   "execution_count": 29,
   "metadata": {},
   "outputs": [],
   "source": [
    "df = df.dropna(axis=1,how=\"all\")\n",
    "df.columns = [x.replace(\":\",\"\") for x in df.columns]\n",
    "df.index = [\" \".join(x.split(\"-\")).capitalize() for x in df.index]"
   ]
  },
  {
   "cell_type": "code",
   "execution_count": 30,
   "metadata": {},
   "outputs": [],
   "source": [
    "df.to_csv(\"NCSU_Formatted.csv\")"
   ]
  },
  {
   "cell_type": "markdown",
   "metadata": {},
   "source": [
    "# Summaries"
   ]
  },
  {
   "cell_type": "code",
   "execution_count": 5,
   "metadata": {},
   "outputs": [],
   "source": [
    "data = pd.read_csv(\"./Output/NCSU_Formatted.csv\",index_col=0)"
   ]
  },
  {
   "cell_type": "code",
   "execution_count": 6,
   "metadata": {},
   "outputs": [],
   "source": [
    "full_df = None\n",
    "\n",
    "for col in data:\n",
    "    df = data[col].value_counts().reset_index()\n",
    "    df.columns = [df.columns[1],\"Count\"]\n",
    "    if full_df is not None:\n",
    "        full_df = pd.concat([full_df,df],axis=1)\n",
    "    else:\n",
    "        full_df = df\n",
    "\n",
    "full_df.to_csv(\"./Output/UniqueValues.csv\")"
   ]
  },
  {
   "cell_type": "code",
   "execution_count": 7,
   "metadata": {},
   "outputs": [],
   "source": [
    "pd.Series(full_df.columns).to_csv(\"./Output/AllColumns.csv\")"
   ]
  },
  {
   "cell_type": "markdown",
   "metadata": {},
   "source": [
    "# Cleaning Cont"
   ]
  },
  {
   "cell_type": "markdown",
   "metadata": {},
   "source": [
    "NCSU - > ERA\n",
    "\n",
    "* Life Cycle - > Life Cycle\n",
    "* Light - > Sun Exposure\n",
    "* Plant Type -> Plant Type\n",
    "* Pollinators -> Attracts\n",
    "* Height -> Dimensions\n",
    "* Fruit Value, Flower Value -> Showy"
   ]
  }
 ],
 "metadata": {
  "kernelspec": {
   "display_name": "base",
   "language": "python",
   "name": "python3"
  },
  "language_info": {
   "codemirror_mode": {
    "name": "ipython",
    "version": 3
   },
   "file_extension": ".py",
   "mimetype": "text/x-python",
   "name": "python",
   "nbconvert_exporter": "python",
   "pygments_lexer": "ipython3",
   "version": "3.8.13 | packaged by conda-forge | (default, Mar 25 2022, 05:59:45) [MSC v.1929 64 bit (AMD64)]"
  },
  "orig_nbformat": 4,
  "vscode": {
   "interpreter": {
    "hash": "212529ebce2f0387ea161e99e46b8847747ab3db2200338c377e9fc9dca056e7"
   }
  }
 },
 "nbformat": 4,
 "nbformat_minor": 2
}
