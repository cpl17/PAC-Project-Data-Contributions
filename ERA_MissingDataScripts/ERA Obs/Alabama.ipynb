{
 "cells": [
  {
   "cell_type": "code",
   "execution_count": 1,
   "metadata": {},
   "outputs": [],
   "source": [
    "import pandas as pd"
   ]
  },
  {
   "attachments": {},
   "cell_type": "markdown",
   "metadata": {},
   "source": [
    "# Observe Characteristics of Relevant Columns \n",
    "\n",
    "These are the columns used for CNP filters"
   ]
  },
  {
   "cell_type": "code",
   "execution_count": 3,
   "metadata": {},
   "outputs": [],
   "source": [
    "source_data = pd.read_excel(\"../Data/ERA_Alabama.xlsx\",sheet_name=\"All Plants\")"
   ]
  },
  {
   "cell_type": "code",
   "execution_count": 1,
   "metadata": {},
   "outputs": [],
   "source": [
    "relevant_columns = [\"Sun Exposure\",\"Soil Moisture\",\"Plant Type\",\"Pollinators\",\"Flowering Months\",\"Height (feet)\",\"Showy\",\"Flower Color\"]"
   ]
  },
  {
   "cell_type": "markdown",
   "metadata": {},
   "source": [
    "Note: Life Cycle is contained in the plant type column (Annual, perennial, biennial)"
   ]
  },
  {
   "cell_type": "code",
   "execution_count": 9,
   "metadata": {},
   "outputs": [
    {
     "data": {
      "text/html": [
       "<div>\n",
       "<style scoped>\n",
       "    .dataframe tbody tr th:only-of-type {\n",
       "        vertical-align: middle;\n",
       "    }\n",
       "\n",
       "    .dataframe tbody tr th {\n",
       "        vertical-align: top;\n",
       "    }\n",
       "\n",
       "    .dataframe thead th {\n",
       "        text-align: right;\n",
       "    }\n",
       "</style>\n",
       "<table border=\"1\" class=\"dataframe\">\n",
       "  <thead>\n",
       "    <tr style=\"text-align: right;\">\n",
       "      <th></th>\n",
       "      <th>Sun Exposure</th>\n",
       "      <th>Soil Moisture</th>\n",
       "      <th>Plant Type</th>\n",
       "      <th>Pollinators</th>\n",
       "      <th>Flowering Months</th>\n",
       "      <th>Height (feet)</th>\n",
       "      <th>Showy</th>\n",
       "    </tr>\n",
       "  </thead>\n",
       "  <tbody>\n",
       "    <tr>\n",
       "      <th>0</th>\n",
       "      <td>NaN</td>\n",
       "      <td>Dry</td>\n",
       "      <td>Tree, Shrub</td>\n",
       "      <td>Larval Host (Moth); Bats</td>\n",
       "      <td>NaN</td>\n",
       "      <td>NaN</td>\n",
       "      <td>NaN</td>\n",
       "    </tr>\n",
       "    <tr>\n",
       "      <th>1</th>\n",
       "      <td>NaN</td>\n",
       "      <td>Moist, Dry</td>\n",
       "      <td>Herb (annual)</td>\n",
       "      <td>Larval Host (Moth)</td>\n",
       "      <td>NaN</td>\n",
       "      <td>NaN</td>\n",
       "      <td>Yes</td>\n",
       "    </tr>\n",
       "    <tr>\n",
       "      <th>2</th>\n",
       "      <td>Sun, Part Shade</td>\n",
       "      <td>Moist, Dry</td>\n",
       "      <td>Herb (annual)</td>\n",
       "      <td>NaN</td>\n",
       "      <td>Jun–Jul</td>\n",
       "      <td>3</td>\n",
       "      <td>Yes</td>\n",
       "    </tr>\n",
       "    <tr>\n",
       "      <th>3</th>\n",
       "      <td>Sun, Part Shade, Shade</td>\n",
       "      <td>Wet, Moist</td>\n",
       "      <td>Tree</td>\n",
       "      <td>Wind</td>\n",
       "      <td>Apr–May</td>\n",
       "      <td>50</td>\n",
       "      <td>No</td>\n",
       "    </tr>\n",
       "    <tr>\n",
       "      <th>4</th>\n",
       "      <td>Sun, Part Shade, Shade</td>\n",
       "      <td>Wet, Moist</td>\n",
       "      <td>Tree</td>\n",
       "      <td>Native Bees; Bombus; Honey Bees; Beetles, Wasp...</td>\n",
       "      <td>Mar–Apr</td>\n",
       "      <td>60</td>\n",
       "      <td>No</td>\n",
       "    </tr>\n",
       "    <tr>\n",
       "      <th>...</th>\n",
       "      <td>...</td>\n",
       "      <td>...</td>\n",
       "      <td>...</td>\n",
       "      <td>...</td>\n",
       "      <td>...</td>\n",
       "      <td>...</td>\n",
       "      <td>...</td>\n",
       "    </tr>\n",
       "    <tr>\n",
       "      <th>1623</th>\n",
       "      <td>Sun, Part Shade</td>\n",
       "      <td>Wet, Moist</td>\n",
       "      <td>Herb (perennial)</td>\n",
       "      <td>Moths</td>\n",
       "      <td>Mar–Apr</td>\n",
       "      <td>0.3–1</td>\n",
       "      <td>Yes</td>\n",
       "    </tr>\n",
       "    <tr>\n",
       "      <th>1624</th>\n",
       "      <td>Sun, Part Shade</td>\n",
       "      <td>Wet</td>\n",
       "      <td>Graminoid (annual)</td>\n",
       "      <td>Larval Host (Butterfly); Larval Host (Moth); Wind</td>\n",
       "      <td>Indeterminate</td>\n",
       "      <td>10</td>\n",
       "      <td>No</td>\n",
       "    </tr>\n",
       "    <tr>\n",
       "      <th>1625</th>\n",
       "      <td>Sun, Part Shade</td>\n",
       "      <td>Wet</td>\n",
       "      <td>Graminoid (perennial)</td>\n",
       "      <td>Larval Host (Butterfly); Larval Host (Moth); Wind</td>\n",
       "      <td>Jul–Sep</td>\n",
       "      <td>9</td>\n",
       "      <td>No</td>\n",
       "    </tr>\n",
       "    <tr>\n",
       "      <th>1626</th>\n",
       "      <td>Sun, Part Shade, Shade</td>\n",
       "      <td>Wet, Moist, Dry</td>\n",
       "      <td>Herb (perennial)</td>\n",
       "      <td>Native Bees; Bombus; Honey Bees; Beetles, Wasp...</td>\n",
       "      <td>May–Jun</td>\n",
       "      <td>1–3</td>\n",
       "      <td>Yes</td>\n",
       "    </tr>\n",
       "    <tr>\n",
       "      <th>1627</th>\n",
       "      <td>Sun, Part Shade</td>\n",
       "      <td>Wet, Moist, Dry</td>\n",
       "      <td>Herb (perennial)</td>\n",
       "      <td>Native Bees; Bombus; Honey Bees; Beetles, Wasp...</td>\n",
       "      <td>Apr–Aug</td>\n",
       "      <td>1–3</td>\n",
       "      <td>Yes</td>\n",
       "    </tr>\n",
       "  </tbody>\n",
       "</table>\n",
       "<p>1628 rows × 7 columns</p>\n",
       "</div>"
      ],
      "text/plain": [
       "                Sun Exposure    Soil Moisture             Plant Type  \\\n",
       "0                        NaN              Dry            Tree, Shrub   \n",
       "1                        NaN       Moist, Dry          Herb (annual)   \n",
       "2            Sun, Part Shade       Moist, Dry          Herb (annual)   \n",
       "3     Sun, Part Shade, Shade       Wet, Moist                   Tree   \n",
       "4     Sun, Part Shade, Shade       Wet, Moist                   Tree   \n",
       "...                      ...              ...                    ...   \n",
       "1623         Sun, Part Shade       Wet, Moist       Herb (perennial)   \n",
       "1624         Sun, Part Shade              Wet     Graminoid (annual)   \n",
       "1625         Sun, Part Shade              Wet  Graminoid (perennial)   \n",
       "1626  Sun, Part Shade, Shade  Wet, Moist, Dry       Herb (perennial)   \n",
       "1627         Sun, Part Shade  Wet, Moist, Dry       Herb (perennial)   \n",
       "\n",
       "                                            Pollinators Flowering Months  \\\n",
       "0                              Larval Host (Moth); Bats              NaN   \n",
       "1                                    Larval Host (Moth)              NaN   \n",
       "2                                                   NaN          Jun–Jul   \n",
       "3                                                  Wind          Apr–May   \n",
       "4     Native Bees; Bombus; Honey Bees; Beetles, Wasp...          Mar–Apr   \n",
       "...                                                 ...              ...   \n",
       "1623                                              Moths          Mar–Apr   \n",
       "1624  Larval Host (Butterfly); Larval Host (Moth); Wind    Indeterminate   \n",
       "1625  Larval Host (Butterfly); Larval Host (Moth); Wind          Jul–Sep   \n",
       "1626  Native Bees; Bombus; Honey Bees; Beetles, Wasp...          May–Jun   \n",
       "1627  Native Bees; Bombus; Honey Bees; Beetles, Wasp...          Apr–Aug   \n",
       "\n",
       "     Height (feet) Showy  \n",
       "0              NaN   NaN  \n",
       "1              NaN   Yes  \n",
       "2                3   Yes  \n",
       "3               50    No  \n",
       "4               60    No  \n",
       "...            ...   ...  \n",
       "1623         0.3–1   Yes  \n",
       "1624            10    No  \n",
       "1625             9    No  \n",
       "1626           1–3   Yes  \n",
       "1627           1–3   Yes  \n",
       "\n",
       "[1628 rows x 7 columns]"
      ]
     },
     "execution_count": 9,
     "metadata": {},
     "output_type": "execute_result"
    }
   ],
   "source": [
    "relevant_df = source_data[relevant_columns]\n",
    "relevant_df"
   ]
  },
  {
   "cell_type": "code",
   "execution_count": 10,
   "metadata": {},
   "outputs": [
    {
     "data": {
      "text/plain": [
       "<AxesSubplot:>"
      ]
     },
     "execution_count": 10,
     "metadata": {},
     "output_type": "execute_result"
    },
    {
     "data": {
      "image/png": "[encoded data removed]",
      "text/plain": [
       "<Figure size 432x288 with 1 Axes>"
      ]
     },
     "metadata": {
      "needs_background": "light"
     },
     "output_type": "display_data"
    }
   ],
   "source": [
    "relevant_df.isna().sum().plot(kind=\"bar\")"
   ]
  },
  {
   "cell_type": "code",
   "execution_count": 16,
   "metadata": {},
   "outputs": [],
   "source": [
    "full_df = None\n",
    "for col in relevant_df:\n",
    "    df = relevant_df[col].value_counts().reset_index()\n",
    "    if full_df is not None:\n",
    "        full_df = pd.concat([full_df,df],axis=1)\n",
    "    else:\n",
    "        full_df = df\n",
    "\n",
    "full_df.to_csv(\"UniqueValues.csv\")"
   ]
  }
 ],
 "metadata": {
  "kernelspec": {
   "display_name": "base",
   "language": "python",
   "name": "python3"
  },
  "language_info": {
   "codemirror_mode": {
    "name": "ipython",
    "version": 3
   },
   "file_extension": ".py",
   "mimetype": "text/x-python",
   "name": "python",
   "nbconvert_exporter": "python",
   "pygments_lexer": "ipython3",
   "version": "3.8.13 | packaged by conda-forge | (default, Mar 25 2022, 05:59:45) [MSC v.1929 64 bit (AMD64)]"
  },
  "orig_nbformat": 4,
  "vscode": {
   "interpreter": {
    "hash": "212529ebce2f0387ea161e99e46b8847747ab3db2200338c377e9fc9dca056e7"
   }
  }
 },
 "nbformat": 4,
 "nbformat_minor": 2
}
