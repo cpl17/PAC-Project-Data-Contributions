{
 "cells": [
  {
   "cell_type": "markdown",
   "metadata": {},
   "source": [
    "# Imports and Data"
   ]
  },
  {
   "cell_type": "code",
   "execution_count": 2,
   "metadata": {},
   "outputs": [],
   "source": [
    "import pandas as pd"
   ]
  },
  {
   "cell_type": "code",
   "execution_count": null,
   "metadata": {},
   "outputs": [],
   "source": [
    "full_data = pd.read_csv(\"../../Data/ERA_Alabama.csv\")"
   ]
  },
  {
   "cell_type": "markdown",
   "metadata": {},
   "source": [
    "# Summaries"
   ]
  },
  {
   "cell_type": "code",
   "execution_count": 2,
   "metadata": {},
   "outputs": [],
   "source": [
    "data = pd.read_csv(\"./Output/Wildflower_Formatted.csv\")"
   ]
  },
  {
   "cell_type": "code",
   "execution_count": 5,
   "metadata": {},
   "outputs": [],
   "source": [
    "full_df = None\n",
    "\n",
    "for col in data:\n",
    "    df = data[col].value_counts().reset_index()\n",
    "    df.columns = [df.columns[1],\"Count\"]\n",
    "    if full_df is not None:\n",
    "        full_df = pd.concat([full_df,df],axis=1)\n",
    "    else:\n",
    "        full_df = df\n",
    "\n",
    "full_df.to_csv(\"./Output/UniqueValues.csv\")"
   ]
  },
  {
   "cell_type": "markdown",
   "metadata": {},
   "source": [
    "# Clean"
   ]
  },
  {
   "cell_type": "markdown",
   "metadata": {},
   "source": [
    "Wildflower -> ERA\n",
    "\n",
    "* Bloom Time -> Flowering Months\n",
    "* Bloom Color -> Flower Color \n",
    "* Soil Moisture\n",
    "* Duration -> Life Cycle\n",
    "* Habit -> Plant Type\n",
    "* Light Requirement -> Sun Exposure\n",
    "* Larval Host -> Pollinator"
   ]
  }
 ],
 "metadata": {
  "kernelspec": {
   "display_name": "Python 3.8.13 ('base')",
   "language": "python",
   "name": "python3"
  },
  "language_info": {
   "codemirror_mode": {
    "name": "ipython",
    "version": 3
   },
   "file_extension": ".py",
   "mimetype": "text/x-python",
   "name": "python",
   "nbconvert_exporter": "python",
   "pygments_lexer": "ipython3",
   "version": "3.8.13"
  },
  "orig_nbformat": 4,
  "vscode": {
   "interpreter": {
    "hash": "212529ebce2f0387ea161e99e46b8847747ab3db2200338c377e9fc9dca056e7"
   }
  }
 },
 "nbformat": 4,
 "nbformat_minor": 2
}
