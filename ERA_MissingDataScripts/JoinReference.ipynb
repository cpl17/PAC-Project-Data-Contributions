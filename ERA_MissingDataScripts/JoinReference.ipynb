{
 "cells": [
  {
   "cell_type": "markdown",
   "metadata": {},
   "source": [
    "# Goal"
   ]
  },
  {
   "cell_type": "markdown",
   "metadata": {},
   "source": [
    "The goal is to scrape Wildflower.org for both all it's information and to fill in the missing data in our source data"
   ]
  },
  {
   "cell_type": "markdown",
   "metadata": {},
   "source": [
    "# Imports and Data"
   ]
  },
  {
   "cell_type": "code",
   "execution_count": 2,
   "metadata": {},
   "outputs": [],
   "source": [
    "import pandas as pd"
   ]
  },
  {
   "cell_type": "code",
   "execution_count": 105,
   "metadata": {},
   "outputs": [],
   "source": [
    "full_data = pd.read_csv(\"../../Data/ERA_Alabama.csv\")"
   ]
  },
  {
   "cell_type": "markdown",
   "metadata": {},
   "source": [
    "# Join with source data - Test "
   ]
  },
  {
   "cell_type": "code",
   "execution_count": 88,
   "metadata": {},
   "outputs": [],
   "source": [
    "wildflower = pd.read_csv(\"WildflowerFull.csv\",index_col=0)"
   ]
  },
  {
   "cell_type": "code",
   "execution_count": 89,
   "metadata": {},
   "outputs": [
    {
     "data": {
      "text/plain": [
       "Index(['Plant Type', 'Scientific Name', 'Common Name', 'Plant Family',\n",
       "       'USDA Symbol', 'Native Status', 'Distribution in USA', 'Workhorse',\n",
       "       'Flower Color', 'Showy', 'Flowering Months', 'Height (feet)',\n",
       "       'Lifespan', 'Growth Form', 'Shape and Orientation', 'Fall Conspicuous',\n",
       "       'Leaf Retention', 'Sun Exposure', 'Soil Moisture', 'Moisture Use',\n",
       "       'Soil Texture', 'Salt Tolerance', 'pH (Range)', 'Fertility Requirement',\n",
       "       'Growth Rate', 'Active Growth Period', 'Hedge Tolerance',\n",
       "       'Resprout Ability', 'Drought Tolerance', 'Fire Tolerance',\n",
       "       'Palatability (Browsing/Grazing)', 'Propagation',\n",
       "       'Commercially Available', 'Pollinator Value', 'Benefits To Pollinators',\n",
       "       'Pollinators', 'Native Bees (except Bombus)', 'Bombus', 'Honey Bees',\n",
       "       'Beetles, Wasps, Flies', 'Moths', 'Butterflies', 'Monarchs',\n",
       "       'Nesting and Structure (Bees)', 'Larval Host (Monarch)',\n",
       "       'Larval Host (Butterfly)', 'Larval Host (Moth)',\n",
       "       'Larval Species (Lepidoptera)', 'Hummingbirds', 'Bats', 'Wind'],\n",
       "      dtype='object')"
      ]
     },
     "execution_count": 89,
     "metadata": {},
     "output_type": "execute_result"
    }
   ],
   "source": [
    "full_data.columns"
   ]
  },
  {
   "cell_type": "code",
   "execution_count": 90,
   "metadata": {},
   "outputs": [
    {
     "data": {
      "text/plain": [
       "Index(['Duration', 'Habit', 'Root Type', 'Leaf Arrangement', 'Leaf Shape',\n",
       "       'Leaf Apex', 'Fruit Type', 'Size Notes', 'Bloom Color', 'Bloom Time',\n",
       "       'Bloom Notes', 'Light Requirement', 'Soil Moisture', 'Leaf',\n",
       "       'Water Use', 'CaCO3 Tolerance', 'Conspicuous Flowers', 'Leaf Retention',\n",
       "       'Leaf Complexity', 'Leaf Margin', 'Autumn Foliage', 'Flower', 'Fruit',\n",
       "       'Cold Tolerant', 'Soil Description', 'Conditions Comments',\n",
       "       'Propagation Material', 'Description', 'Seed Collection',\n",
       "       'Seed Treatment', 'Commercially Avail', 'Leaf Venation',\n",
       "       'Leaf Pubescence', 'Leaf Base', 'Breeding System', 'Inflorescence',\n",
       "       'Drought Tolerance', 'Use Ornamental', 'Use Wildlife', 'Use Food',\n",
       "       'Warning', 'Attracts', 'Leaf Texture', 'Soil pH', 'Heat Tolerant',\n",
       "       'Use Other', 'Interesting Foliage', 'Larval Host', 'Deer Resistant',\n",
       "       'Use Medicinal', 'Fragrant Foliage', 'Fragrant Flowers', 'Maintenance',\n",
       "       'Nectar Source', 'Aquatic', 'Poisonous', 'Size Class', ' toxic ',\n",
       "       'aggressive'],\n",
       "      dtype='object')"
      ]
     },
     "execution_count": 90,
     "metadata": {},
     "output_type": "execute_result"
    }
   ],
   "source": [
    "wildflower.columns"
   ]
  },
  {
   "cell_type": "markdown",
   "metadata": {},
   "source": [
    "flowering_months = bloom_time, "
   ]
  },
  {
   "cell_type": "code",
   "execution_count": 91,
   "metadata": {},
   "outputs": [],
   "source": [
    "wildflower.rename(columns={'Bloom Time':'Flowering Months','Bloom Color':'Flower Color'},inplace=True)"
   ]
  },
  {
   "cell_type": "code",
   "execution_count": 92,
   "metadata": {},
   "outputs": [
    {
     "name": "stdout",
     "output_type": "stream",
     "text": [
      "['Soil Moisture', 'Drought Tolerance', 'Flower Color', 'Leaf Retention', 'Flowering Months']\n"
     ]
    }
   ],
   "source": [
    "columns_to_update = list(set(wildflower.columns).intersection(full_data.columns))\n",
    "print(columns_to_update)"
   ]
  },
  {
   "cell_type": "code",
   "execution_count": 93,
   "metadata": {},
   "outputs": [],
   "source": [
    "wildflower = wildflower[columns_to_update]"
   ]
  },
  {
   "cell_type": "code",
   "execution_count": 94,
   "metadata": {},
   "outputs": [],
   "source": [
    "temp = full_data[[\"USDA Symbol\"] + columns_to_update][:100].set_index(\"USDA Symbol\")\n"
   ]
  },
  {
   "cell_type": "code",
   "execution_count": 95,
   "metadata": {},
   "outputs": [],
   "source": [
    "for symbol in wildflower.index:\n",
    "    if symbol not in temp.index:\n",
    "        wildflower.drop(symbol,inplace=True)"
   ]
  },
  {
   "cell_type": "code",
   "execution_count": 96,
   "metadata": {},
   "outputs": [
    {
     "data": {
      "text/html": [
       "<div>\n",
       "<style scoped>\n",
       "    .dataframe tbody tr th:only-of-type {\n",
       "        vertical-align: middle;\n",
       "    }\n",
       "\n",
       "    .dataframe tbody tr th {\n",
       "        vertical-align: top;\n",
       "    }\n",
       "\n",
       "    .dataframe thead th {\n",
       "        text-align: right;\n",
       "    }\n",
       "</style>\n",
       "<table border=\"1\" class=\"dataframe\">\n",
       "  <thead>\n",
       "    <tr style=\"text-align: right;\">\n",
       "      <th></th>\n",
       "      <th>Soil Moisture</th>\n",
       "      <th>Drought Tolerance</th>\n",
       "      <th>Flower Color</th>\n",
       "      <th>Leaf Retention</th>\n",
       "      <th>Flowering Months</th>\n",
       "    </tr>\n",
       "    <tr>\n",
       "      <th>USDA Symbol</th>\n",
       "      <th></th>\n",
       "      <th></th>\n",
       "      <th></th>\n",
       "      <th></th>\n",
       "      <th></th>\n",
       "    </tr>\n",
       "  </thead>\n",
       "  <tbody>\n",
       "    <tr>\n",
       "      <th>ACFA</th>\n",
       "      <td>Dry</td>\n",
       "      <td>NaN</td>\n",
       "      <td>NaN</td>\n",
       "      <td>NaN</td>\n",
       "      <td>NaN</td>\n",
       "    </tr>\n",
       "    <tr>\n",
       "      <th>ACRH</th>\n",
       "      <td>Moist, Dry</td>\n",
       "      <td>NaN</td>\n",
       "      <td>NaN</td>\n",
       "      <td>NaN</td>\n",
       "      <td>NaN</td>\n",
       "    </tr>\n",
       "    <tr>\n",
       "      <th>ACVI</th>\n",
       "      <td>Moist, Dry</td>\n",
       "      <td>Medium</td>\n",
       "      <td>Red</td>\n",
       "      <td>Deciduous</td>\n",
       "      <td>Jun–Jul</td>\n",
       "    </tr>\n",
       "    <tr>\n",
       "      <th>ACFL</th>\n",
       "      <td>Wet, Moist</td>\n",
       "      <td>Low</td>\n",
       "      <td>Yellow</td>\n",
       "      <td>Deciduous</td>\n",
       "      <td>Apr–May</td>\n",
       "    </tr>\n",
       "    <tr>\n",
       "      <th>ACNE2</th>\n",
       "      <td>Wet, Moist</td>\n",
       "      <td>High</td>\n",
       "      <td>White</td>\n",
       "      <td>Deciduous</td>\n",
       "      <td>Mar–Apr</td>\n",
       "    </tr>\n",
       "    <tr>\n",
       "      <th>...</th>\n",
       "      <td>...</td>\n",
       "      <td>...</td>\n",
       "      <td>...</td>\n",
       "      <td>...</td>\n",
       "      <td>...</td>\n",
       "    </tr>\n",
       "    <tr>\n",
       "      <th>ARPL4</th>\n",
       "      <td>Wet, Moist, Dry</td>\n",
       "      <td>NaN</td>\n",
       "      <td>NaN</td>\n",
       "      <td>NaN</td>\n",
       "      <td>NaN</td>\n",
       "    </tr>\n",
       "    <tr>\n",
       "      <th>ARRE6</th>\n",
       "      <td>NaN</td>\n",
       "      <td>NaN</td>\n",
       "      <td>NaN</td>\n",
       "      <td>NaN</td>\n",
       "      <td>NaN</td>\n",
       "    </tr>\n",
       "    <tr>\n",
       "      <th>ARPR2</th>\n",
       "      <td>NaN</td>\n",
       "      <td>NaN</td>\n",
       "      <td>NaN</td>\n",
       "      <td>NaN</td>\n",
       "      <td>NaN</td>\n",
       "    </tr>\n",
       "    <tr>\n",
       "      <th>ARAR7</th>\n",
       "      <td>Wet, Moist</td>\n",
       "      <td>Low</td>\n",
       "      <td>White</td>\n",
       "      <td>Deciduous</td>\n",
       "      <td>Mar–May</td>\n",
       "    </tr>\n",
       "    <tr>\n",
       "      <th>ARME6</th>\n",
       "      <td>Moist, Dry</td>\n",
       "      <td>NaN</td>\n",
       "      <td>White</td>\n",
       "      <td>NaN</td>\n",
       "      <td>May–Jun</td>\n",
       "    </tr>\n",
       "  </tbody>\n",
       "</table>\n",
       "<p>100 rows × 5 columns</p>\n",
       "</div>"
      ],
      "text/plain": [
       "               Soil Moisture Drought Tolerance Flower Color Leaf Retention  \\\n",
       "USDA Symbol                                                                  \n",
       "ACFA                     Dry               NaN          NaN            NaN   \n",
       "ACRH              Moist, Dry               NaN          NaN            NaN   \n",
       "ACVI              Moist, Dry            Medium          Red      Deciduous   \n",
       "ACFL              Wet, Moist               Low       Yellow      Deciduous   \n",
       "ACNE2             Wet, Moist              High        White      Deciduous   \n",
       "...                      ...               ...          ...            ...   \n",
       "ARPL4        Wet, Moist, Dry               NaN          NaN            NaN   \n",
       "ARRE6                    NaN               NaN          NaN            NaN   \n",
       "ARPR2                    NaN               NaN          NaN            NaN   \n",
       "ARAR7             Wet, Moist               Low        White      Deciduous   \n",
       "ARME6             Moist, Dry               NaN        White            NaN   \n",
       "\n",
       "            Flowering Months  \n",
       "USDA Symbol                   \n",
       "ACFA                     NaN  \n",
       "ACRH                     NaN  \n",
       "ACVI                 Jun–Jul  \n",
       "ACFL                 Apr–May  \n",
       "ACNE2                Mar–Apr  \n",
       "...                      ...  \n",
       "ARPL4                    NaN  \n",
       "ARRE6                    NaN  \n",
       "ARPR2                    NaN  \n",
       "ARAR7                Mar–May  \n",
       "ARME6                May–Jun  \n",
       "\n",
       "[100 rows x 5 columns]"
      ]
     },
     "execution_count": 96,
     "metadata": {},
     "output_type": "execute_result"
    }
   ],
   "source": [
    "temp"
   ]
  },
  {
   "cell_type": "code",
   "execution_count": 97,
   "metadata": {},
   "outputs": [
    {
     "data": {
      "text/html": [
       "<div>\n",
       "<style scoped>\n",
       "    .dataframe tbody tr th:only-of-type {\n",
       "        vertical-align: middle;\n",
       "    }\n",
       "\n",
       "    .dataframe tbody tr th {\n",
       "        vertical-align: top;\n",
       "    }\n",
       "\n",
       "    .dataframe thead th {\n",
       "        text-align: right;\n",
       "    }\n",
       "</style>\n",
       "<table border=\"1\" class=\"dataframe\">\n",
       "  <thead>\n",
       "    <tr style=\"text-align: right;\">\n",
       "      <th></th>\n",
       "      <th>Soil Moisture</th>\n",
       "      <th>Drought Tolerance</th>\n",
       "      <th>Flower Color</th>\n",
       "      <th>Leaf Retention</th>\n",
       "      <th>Flowering Months</th>\n",
       "    </tr>\n",
       "  </thead>\n",
       "  <tbody>\n",
       "    <tr>\n",
       "      <th>ACRH</th>\n",
       "      <td>Dry,Moist</td>\n",
       "      <td>NaN</td>\n",
       "      <td>Green</td>\n",
       "      <td>NaN</td>\n",
       "      <td>Jun,Jul,Aug,Sep,Oct,Nov</td>\n",
       "    </tr>\n",
       "    <tr>\n",
       "      <th>ACVI</th>\n",
       "      <td>NaN</td>\n",
       "      <td>NaN</td>\n",
       "      <td>Red,Yellow,Green</td>\n",
       "      <td>NaN</td>\n",
       "      <td>Jun,Jul,Aug,Sep,Oct,Nov</td>\n",
       "    </tr>\n",
       "    <tr>\n",
       "      <th>ACFL</th>\n",
       "      <td>Dry</td>\n",
       "      <td>NaN</td>\n",
       "      <td>Yellow,Green</td>\n",
       "      <td>Deciduous</td>\n",
       "      <td>Apr</td>\n",
       "    </tr>\n",
       "    <tr>\n",
       "      <th>ACNE2</th>\n",
       "      <td>Moist</td>\n",
       "      <td>High</td>\n",
       "      <td>Yellow,Green,Brown</td>\n",
       "      <td>Deciduous</td>\n",
       "      <td>Mar,Apr</td>\n",
       "    </tr>\n",
       "    <tr>\n",
       "      <th>ACNI5</th>\n",
       "      <td>Moist</td>\n",
       "      <td>NaN</td>\n",
       "      <td>Yellow,Green</td>\n",
       "      <td>Deciduous</td>\n",
       "      <td>Apr,May</td>\n",
       "    </tr>\n",
       "    <tr>\n",
       "      <th>...</th>\n",
       "      <td>...</td>\n",
       "      <td>...</td>\n",
       "      <td>...</td>\n",
       "      <td>...</td>\n",
       "      <td>...</td>\n",
       "    </tr>\n",
       "    <tr>\n",
       "      <th>ARPL4</th>\n",
       "      <td>Moist</td>\n",
       "      <td>NaN</td>\n",
       "      <td>White,Green</td>\n",
       "      <td>NaN</td>\n",
       "      <td>May,Jun,Jul,Aug</td>\n",
       "    </tr>\n",
       "    <tr>\n",
       "      <th>ARRE6</th>\n",
       "      <td>NaN</td>\n",
       "      <td>NaN</td>\n",
       "      <td>White,Green</td>\n",
       "      <td>NaN</td>\n",
       "      <td>May,Jun,Jul,Aug,Sep</td>\n",
       "    </tr>\n",
       "    <tr>\n",
       "      <th>ARPR2</th>\n",
       "      <td>NaN</td>\n",
       "      <td>NaN</td>\n",
       "      <td>White,Pink</td>\n",
       "      <td>NaN</td>\n",
       "      <td>NaN</td>\n",
       "    </tr>\n",
       "    <tr>\n",
       "      <th>ARAR7</th>\n",
       "      <td>Moist</td>\n",
       "      <td>NaN</td>\n",
       "      <td>White,Pink</td>\n",
       "      <td>Deciduous</td>\n",
       "      <td>Feb,Mar,Apr,May</td>\n",
       "    </tr>\n",
       "    <tr>\n",
       "      <th>ARME6</th>\n",
       "      <td>Moist</td>\n",
       "      <td>NaN</td>\n",
       "      <td>White,Pink</td>\n",
       "      <td>Deciduous</td>\n",
       "      <td>Mar,Apr,May,Jun</td>\n",
       "    </tr>\n",
       "  </tbody>\n",
       "</table>\n",
       "<p>97 rows × 5 columns</p>\n",
       "</div>"
      ],
      "text/plain": [
       "      Soil Moisture Drought Tolerance          Flower Color Leaf Retention  \\\n",
       "ACRH     Dry,Moist                NaN                Green             NaN   \n",
       "ACVI            NaN               NaN     Red,Yellow,Green             NaN   \n",
       "ACFL           Dry                NaN         Yellow,Green      Deciduous    \n",
       "ACNE2        Moist              High    Yellow,Green,Brown      Deciduous    \n",
       "ACNI5        Moist                NaN         Yellow,Green      Deciduous    \n",
       "...             ...               ...                   ...            ...   \n",
       "ARPL4        Moist                NaN          White,Green             NaN   \n",
       "ARRE6           NaN               NaN          White,Green             NaN   \n",
       "ARPR2           NaN               NaN           White,Pink             NaN   \n",
       "ARAR7        Moist                NaN           White,Pink      Deciduous    \n",
       "ARME6        Moist                NaN           White,Pink      Deciduous    \n",
       "\n",
       "                Flowering Months  \n",
       "ACRH    Jun,Jul,Aug,Sep,Oct,Nov   \n",
       "ACVI    Jun,Jul,Aug,Sep,Oct,Nov   \n",
       "ACFL                        Apr   \n",
       "ACNE2                   Mar,Apr   \n",
       "ACNI5                   Apr,May   \n",
       "...                          ...  \n",
       "ARPL4           May,Jun,Jul,Aug   \n",
       "ARRE6       May,Jun,Jul,Aug,Sep   \n",
       "ARPR2                        NaN  \n",
       "ARAR7           Feb,Mar,Apr,May   \n",
       "ARME6           Mar,Apr,May,Jun   \n",
       "\n",
       "[97 rows x 5 columns]"
      ]
     },
     "execution_count": 97,
     "metadata": {},
     "output_type": "execute_result"
    }
   ],
   "source": [
    "wildflower"
   ]
  },
  {
   "cell_type": "code",
   "execution_count": 98,
   "metadata": {},
   "outputs": [],
   "source": [
    "dict_wildflower = wildflower.to_dict()\n",
    "dict_temp = temp.to_dict()"
   ]
  },
  {
   "cell_type": "code",
   "execution_count": 99,
   "metadata": {},
   "outputs": [
    {
     "name": "stdout",
     "output_type": "stream",
     "text": [
      "Replaced\n",
      "Replaced\n",
      "Replaced\n",
      "Replaced\n",
      "Replaced\n",
      "Replaced\n",
      "Replaced\n",
      "Replaced\n",
      "Replaced\n",
      "Replaced\n",
      "Replaced\n",
      "Replaced\n",
      "Replaced\n",
      "Replaced\n",
      "Replaced\n",
      "Replaced\n",
      "Replaced\n",
      "Replaced\n",
      "Replaced\n",
      "Replaced\n",
      "Replaced\n",
      "Replaced\n",
      "Replaced\n",
      "Replaced\n",
      "Replaced\n",
      "Replaced\n",
      "Replaced\n",
      "Replaced\n",
      "Replaced\n",
      "Replaced\n",
      "Replaced\n",
      "Replaced\n",
      "Replaced\n",
      "Replaced\n",
      "Replaced\n",
      "Replaced\n",
      "Replaced\n",
      "Replaced\n",
      "Replaced\n",
      "Replaced\n",
      "Replaced\n",
      "Replaced\n",
      "Replaced\n",
      "Replaced\n",
      "Replaced\n",
      "Replaced\n",
      "Replaced\n",
      "Replaced\n",
      "Replaced\n",
      "Replaced\n",
      "Replaced\n",
      "Replaced\n",
      "Replaced\n",
      "Replaced\n",
      "Replaced\n",
      "Replaced\n",
      "Replaced\n",
      "Replaced\n",
      "Replaced\n",
      "Replaced\n",
      "Replaced\n",
      "Replaced\n",
      "Replaced\n",
      "Replaced\n",
      "Replaced\n",
      "Replaced\n",
      "Replaced\n",
      "Replaced\n",
      "Replaced\n",
      "Replaced\n",
      "Replaced\n",
      "Replaced\n",
      "Replaced\n",
      "Replaced\n",
      "Replaced\n",
      "Replaced\n",
      "Replaced\n",
      "Replaced\n",
      "Replaced\n",
      "Replaced\n",
      "Replaced\n",
      "Replaced\n",
      "Replaced\n",
      "Replaced\n",
      "Replaced\n",
      "Replaced\n",
      "Replaced\n"
     ]
    }
   ],
   "source": [
    "for col in columns_to_update:\n",
    "    for symbol in temp.index:\n",
    "        if dict_temp[col][symbol] is np.nan:\n",
    "            if (symbol in wildflower.index) and (dict_wildflower[col][symbol] is not np.nan):\n",
    "                print(\"Replaced\")\n",
    "                dict_temp[col][symbol] = dict_wildflower[col][symbol]\n"
   ]
  },
  {
   "cell_type": "code",
   "execution_count": 100,
   "metadata": {},
   "outputs": [],
   "source": [
    "temp = pd.DataFrame(dict_temp)"
   ]
  },
  {
   "cell_type": "code",
   "execution_count": 101,
   "metadata": {},
   "outputs": [
    {
     "data": {
      "text/plain": [
       "Soil Moisture        11\n",
       "Drought Tolerance    52\n",
       "Flower Color          1\n",
       "Leaf Retention       49\n",
       "Flowering Months      2\n",
       "dtype: int64"
      ]
     },
     "execution_count": 101,
     "metadata": {},
     "output_type": "execute_result"
    }
   ],
   "source": [
    "temp.isna().sum()"
   ]
  },
  {
   "cell_type": "markdown",
   "metadata": {},
   "source": [
    "# Join - Implemenation"
   ]
  },
  {
   "cell_type": "code",
   "execution_count": 107,
   "metadata": {},
   "outputs": [],
   "source": [
    "wildflower = pd.read_csv(\"WildflowerFullOriginal.csv\",index_col=0)\n",
    "era = full_data.set_index(\"USDA Symbol\")"
   ]
  },
  {
   "cell_type": "code",
   "execution_count": 108,
   "metadata": {},
   "outputs": [],
   "source": [
    "wildflower.rename(columns={'Bloom Time':'Flowering Months','Bloom Color':'Flower Color'},inplace=True)\n",
    "columns_to_update = list(set(wildflower.columns).intersection(era.columns))\n"
   ]
  },
  {
   "cell_type": "code",
   "execution_count": 109,
   "metadata": {},
   "outputs": [],
   "source": [
    "wildflower = wildflower[columns_to_update]\n",
    "era_condensed = era[columns_to_update]"
   ]
  },
  {
   "cell_type": "code",
   "execution_count": 110,
   "metadata": {},
   "outputs": [
    {
     "data": {
      "text/plain": [
       "Soil Moisture        293\n",
       "Drought Tolerance    974\n",
       "Flower Color         749\n",
       "Leaf Retention       972\n",
       "Flowering Months     697\n",
       "dtype: int64"
      ]
     },
     "execution_count": 110,
     "metadata": {},
     "output_type": "execute_result"
    }
   ],
   "source": [
    "era_condensed.isna().sum()"
   ]
  },
  {
   "cell_type": "code",
   "execution_count": 111,
   "metadata": {},
   "outputs": [],
   "source": [
    "for symbol in wildflower.index:\n",
    "    if symbol not in era_condensed.index:\n",
    "        wildflower.drop(symbol,inplace=True)"
   ]
  },
  {
   "cell_type": "code",
   "execution_count": 112,
   "metadata": {},
   "outputs": [],
   "source": [
    "dict_wildflower = wildflower.to_dict()\n",
    "dict_era_condensed = era_condensed.to_dict()"
   ]
  },
  {
   "cell_type": "code",
   "execution_count": 113,
   "metadata": {},
   "outputs": [
    {
     "name": "stdout",
     "output_type": "stream",
     "text": [
      "1558\n"
     ]
    }
   ],
   "source": [
    "counter = 0\n",
    "for col in columns_to_update:\n",
    "    for symbol in era_condensed.index:\n",
    "        if dict_era_condensed[col][symbol] is np.nan:\n",
    "            if (symbol in wildflower.index) and (dict_wildflower[col][symbol] is not np.nan):\n",
    "                counter += 1\n",
    "                dict_era_condensed[col][symbol] = dict_wildflower[col][symbol]\n",
    "print(counter)"
   ]
  },
  {
   "cell_type": "code",
   "execution_count": 115,
   "metadata": {},
   "outputs": [
    {
     "data": {
      "text/plain": [
       "Soil Moisture        212\n",
       "Drought Tolerance    932\n",
       "Flower Color          29\n",
       "Leaf Retention       861\n",
       "Flowering Months      93\n",
       "dtype: int64"
      ]
     },
     "execution_count": 115,
     "metadata": {},
     "output_type": "execute_result"
    }
   ],
   "source": [
    "df = pd.DataFrame(dict_era_condensed)\n",
    "df.isna().sum()"
   ]
  }
 ],
 "metadata": {
  "kernelspec": {
   "display_name": "Python 3.8.13 ('base')",
   "language": "python",
   "name": "python3"
  },
  "language_info": {
   "codemirror_mode": {
    "name": "ipython",
    "version": 3
   },
   "file_extension": ".py",
   "mimetype": "text/x-python",
   "name": "python",
   "nbconvert_exporter": "python",
   "pygments_lexer": "ipython3",
   "version": "3.8.13 | packaged by conda-forge | (default, Mar 25 2022, 05:59:45) [MSC v.1929 64 bit (AMD64)]"
  },
  "orig_nbformat": 4,
  "vscode": {
   "interpreter": {
    "hash": "212529ebce2f0387ea161e99e46b8847747ab3db2200338c377e9fc9dca056e7"
   }
  }
 },
 "nbformat": 4,
 "nbformat_minor": 2
}
