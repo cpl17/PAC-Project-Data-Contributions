{
 "cells": [
  {
   "cell_type": "code",
   "execution_count": 31,
   "metadata": {},
   "outputs": [],
   "source": [
    "import pandas as pd\n",
    "import time"
   ]
  },
  {
   "cell_type": "code",
   "execution_count": 22,
   "metadata": {},
   "outputs": [],
   "source": [
    "from selenium import webdriver\n",
    "from selenium.webdriver.chrome.options import Options\n",
    "from selenium.webdriver.chrome.service import Service\n",
    "from webdriver_manager.chrome import ChromeDriverManager\n",
    "\n",
    "from selenium.webdriver.support import expected_conditions as EC\n",
    "from selenium.webdriver.common.by import By\n",
    "from selenium.webdriver.support.ui import WebDriverWait\n",
    "\n",
    "options = Options()\n",
    "options.add_argument(\"start-maximized\")\n",
    "options.add_experimental_option(\"detach\", True)\n",
    "\n",
    "ser = Service(\"C:\\Program Files (x86)\\chromedriver.exe\")\n",
    "\n",
    "DELAY = 2"
   ]
  },
  {
   "cell_type": "code",
   "execution_count": 29,
   "metadata": {},
   "outputs": [],
   "source": [
    "era_al = pd.read_excel(\"../Data/ERA_Alabama.xlsx\",sheet_name=\"All Plants\")\n",
    "data = era_al[[\"USDA Symbol\",\"Scientific Name\",\"Common Name\"]]\n",
    "scientific_names = data[\"Scientific Name\"].to_list()\n",
    "common_names = data[\"Common Name\"].to_list()\n",
    "all_names = scientific_names + common_names\n"
   ]
  },
  {
   "cell_type": "markdown",
   "metadata": {},
   "source": [
    "# Home Page"
   ]
  },
  {
   "cell_type": "code",
   "execution_count": 30,
   "metadata": {},
   "outputs": [
    {
     "name": "stdout",
     "output_type": "stream",
     "text": [
      "Amsonia tabernaemontana Amsonia tabernaemontana – ‘Bluestar’\n"
     ]
    }
   ],
   "source": [
    "driver = webdriver.Chrome(service=ser, options=options)\n",
    "home_page = \"https://petalsfromthepast.com/product-category/plants/\"\n",
    "driver.get(home_page)\n",
    "WebDriverWait(driver, DELAY).until(EC.presence_of_element_located((By.CSS_SELECTOR,\"h2.woocommerce-loop-product__title\")))\n",
    "time.sleep(5)\n",
    "\n",
    "\n",
    "matches_list = []\n",
    "match_urls_list = []\n",
    "all_names = []\n",
    "\n",
    "\n",
    "link_elements = driver.find_elements(By.CSS_SELECTOR,\"li a.woocommerce-loop-product__link\")\n",
    "links = [link_element.get_attribute(\"href\") for link_element in link_elements]\n",
    "\n",
    "name_elements = driver.find_elements(By.CSS_SELECTOR,\"h2.woocommerce-loop-product__title\")\n",
    "names = [name_element.text for name_element in name_elements]\n",
    "\n",
    "page_list = list(zip(links,names))\n",
    "\n",
    "for plant_tuple in page_list:\n",
    "\n",
    "    #Source name \"Amsonia tabernaemontana\" is found in name on webpage as \"Amsonia tabernaemontana – ‘Bluestar\"\n",
    "    for name in all_names:\n",
    "        if name in plant_tuple[1]:\n",
    "            matches_list.append(name)\n",
    "            match_urls_list.append(plant_tuple[0])\n",
    "\n",
    "\n"
   ]
  },
  {
   "cell_type": "code",
   "execution_count": null,
   "metadata": {},
   "outputs": [],
   "source": []
  }
 ],
 "metadata": {
  "kernelspec": {
   "display_name": "Python 3.8.13 ('base')",
   "language": "python",
   "name": "python3"
  },
  "language_info": {
   "codemirror_mode": {
    "name": "ipython",
    "version": 3
   },
   "file_extension": ".py",
   "mimetype": "text/x-python",
   "name": "python",
   "nbconvert_exporter": "python",
   "pygments_lexer": "ipython3",
   "version": "3.8.13"
  },
  "orig_nbformat": 4,
  "vscode": {
   "interpreter": {
    "hash": "212529ebce2f0387ea161e99e46b8847747ab3db2200338c377e9fc9dca056e7"
   }
  }
 },
 "nbformat": 4,
 "nbformat_minor": 2
}
