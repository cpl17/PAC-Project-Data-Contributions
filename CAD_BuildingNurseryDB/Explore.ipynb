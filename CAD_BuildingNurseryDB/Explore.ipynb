{
 "cells": [
  {
   "cell_type": "code",
   "execution_count": 2,
   "metadata": {},
   "outputs": [],
   "source": [
    "import pandas as pd\n",
    "import time\n",
    "\n",
    "from selenium import webdriver\n",
    "from selenium.webdriver.chrome.options import Options\n",
    "from selenium.webdriver.chrome.service import Service\n",
    "\n",
    "from selenium.webdriver.support import expected_conditions as EC\n",
    "from selenium.webdriver.common.by import By\n",
    "from selenium.webdriver.support.ui import WebDriverWait\n",
    "\n",
    "options = Options()\n",
    "options.add_argument(\"start-maximized\")\n",
    "options.add_experimental_option(\"detach\", True)\n",
    "ser = Service(\"C:\\Program Files (x86)\\chromedriver.exe\")\n",
    "\n",
    "DELAY = 2"
   ]
  },
  {
   "attachments": {},
   "cell_type": "markdown",
   "metadata": {},
   "source": [
    "# Code for getting Nursery List (Wildflower)\n"
   ]
  },
  {
   "cell_type": "code",
   "execution_count": 18,
   "metadata": {},
   "outputs": [],
   "source": [
    "driver = webdriver.Chrome(service=ser, options=options)\n",
    "driver.get(\"https://www.wildflower.org/suppliers/search.php?start=0&pagecount=100\")"
   ]
  },
  {
   "cell_type": "code",
   "execution_count": 19,
   "metadata": {},
   "outputs": [],
   "source": [
    "table = driver.find_element(By.CSS_SELECTOR,\"div table\")"
   ]
  },
  {
   "cell_type": "code",
   "execution_count": 42,
   "metadata": {},
   "outputs": [],
   "source": [
    "html_list=  pd.read_html(table.get_attribute(\"outerHTML\"))\n"
   ]
  },
  {
   "cell_type": "code",
   "execution_count": 43,
   "metadata": {},
   "outputs": [],
   "source": [
    "df = html_list[0]\n",
    "df.columns = df.iloc[0,:].to_list()"
   ]
  },
  {
   "cell_type": "code",
   "execution_count": 44,
   "metadata": {},
   "outputs": [],
   "source": [
    "df.drop(index=df.index[0], axis=0, inplace=True)\n",
    "df.drop(index=df.index[-1], axis=0, inplace=True)"
   ]
  },
  {
   "cell_type": "code",
   "execution_count": 45,
   "metadata": {},
   "outputs": [
    {
     "data": {
      "text/html": [
       "<div>\n",
       "<style scoped>\n",
       "    .dataframe tbody tr th:only-of-type {\n",
       "        vertical-align: middle;\n",
       "    }\n",
       "\n",
       "    .dataframe tbody tr th {\n",
       "        vertical-align: top;\n",
       "    }\n",
       "\n",
       "    .dataframe thead th {\n",
       "        text-align: right;\n",
       "    }\n",
       "</style>\n",
       "<table border=\"1\" class=\"dataframe\">\n",
       "  <thead>\n",
       "    <tr style=\"text-align: right;\">\n",
       "      <th></th>\n",
       "      <th>name</th>\n",
       "      <th>business category</th>\n",
       "      <th>associate</th>\n",
       "      <th>% native</th>\n",
       "      <th>location</th>\n",
       "    </tr>\n",
       "  </thead>\n",
       "  <tbody>\n",
       "    <tr>\n",
       "      <th>1</th>\n",
       "      <td>A Touch O' Green Landscape &amp; Gardens LLC</td>\n",
       "      <td>NurserySeed CompanyLandscape ProfessionalEnvir...</td>\n",
       "      <td>Yes</td>\n",
       "      <td>75</td>\n",
       "      <td>Austin, TX</td>\n",
       "    </tr>\n",
       "    <tr>\n",
       "      <th>2</th>\n",
       "      <td>'Ahakhav Tribal Preserve</td>\n",
       "      <td>Nursery</td>\n",
       "      <td>Yes</td>\n",
       "      <td>100</td>\n",
       "      <td>Parker , AZ</td>\n",
       "    </tr>\n",
       "    <tr>\n",
       "      <th>3</th>\n",
       "      <td>Agrivestment Ltd.</td>\n",
       "      <td>Seed Company</td>\n",
       "      <td>Yes</td>\n",
       "      <td>50</td>\n",
       "      <td>Tacoma, WA</td>\n",
       "    </tr>\n",
       "    <tr>\n",
       "      <th>4</th>\n",
       "      <td>Alexander Landscaping &amp; Plant Farm</td>\n",
       "      <td>Nursery</td>\n",
       "      <td>Yes</td>\n",
       "      <td>50</td>\n",
       "      <td>Davie, FL</td>\n",
       "    </tr>\n",
       "    <tr>\n",
       "      <th>5</th>\n",
       "      <td>Alkane Nursery</td>\n",
       "      <td>Nursery</td>\n",
       "      <td>Yes</td>\n",
       "      <td>75</td>\n",
       "      <td>Kapa|au, HI</td>\n",
       "    </tr>\n",
       "    <tr>\n",
       "      <th>...</th>\n",
       "      <td>...</td>\n",
       "      <td>...</td>\n",
       "      <td>...</td>\n",
       "      <td>...</td>\n",
       "      <td>...</td>\n",
       "    </tr>\n",
       "    <tr>\n",
       "      <th>96</th>\n",
       "      <td>Florida Native Plants Nursery &amp; Landscaping</td>\n",
       "      <td>NurseryLandscape ProfessionalEnvironmental Con...</td>\n",
       "      <td>Yes</td>\n",
       "      <td>75</td>\n",
       "      <td>Sarasota, FL</td>\n",
       "    </tr>\n",
       "    <tr>\n",
       "      <th>97</th>\n",
       "      <td>From Seeds to Home Nursery</td>\n",
       "      <td>Nursery</td>\n",
       "      <td>Yes</td>\n",
       "      <td>75</td>\n",
       "      <td>San Angelo, TX</td>\n",
       "    </tr>\n",
       "    <tr>\n",
       "      <th>98</th>\n",
       "      <td>Front Range Environmental</td>\n",
       "      <td>Landscape ProfessionalEnvironmental Consultant</td>\n",
       "      <td>Yes</td>\n",
       "      <td>75</td>\n",
       "      <td>McHenry , IL</td>\n",
       "    </tr>\n",
       "    <tr>\n",
       "      <th>99</th>\n",
       "      <td>Full Circle Gardens</td>\n",
       "      <td>Nursery</td>\n",
       "      <td>Yes</td>\n",
       "      <td>75</td>\n",
       "      <td>Essex, VT</td>\n",
       "    </tr>\n",
       "    <tr>\n",
       "      <th>100</th>\n",
       "      <td>Full Circle Gardens</td>\n",
       "      <td>NurseryEnvironmental Consultant</td>\n",
       "      <td>Yes</td>\n",
       "      <td>75</td>\n",
       "      <td>Essex, Vermont</td>\n",
       "    </tr>\n",
       "  </tbody>\n",
       "</table>\n",
       "<p>100 rows × 5 columns</p>\n",
       "</div>"
      ],
      "text/plain": [
       "                                            name  \\\n",
       "1       A Touch O' Green Landscape & Gardens LLC   \n",
       "2                       'Ahakhav Tribal Preserve   \n",
       "3                              Agrivestment Ltd.   \n",
       "4             Alexander Landscaping & Plant Farm   \n",
       "5                                 Alkane Nursery   \n",
       "..                                           ...   \n",
       "96   Florida Native Plants Nursery & Landscaping   \n",
       "97                    From Seeds to Home Nursery   \n",
       "98                     Front Range Environmental   \n",
       "99                           Full Circle Gardens   \n",
       "100                          Full Circle Gardens   \n",
       "\n",
       "                                     business category associate % native  \\\n",
       "1    NurserySeed CompanyLandscape ProfessionalEnvir...       Yes       75   \n",
       "2                                              Nursery       Yes      100   \n",
       "3                                         Seed Company       Yes       50   \n",
       "4                                              Nursery       Yes       50   \n",
       "5                                              Nursery       Yes       75   \n",
       "..                                                 ...       ...      ...   \n",
       "96   NurseryLandscape ProfessionalEnvironmental Con...       Yes       75   \n",
       "97                                             Nursery       Yes       75   \n",
       "98      Landscape ProfessionalEnvironmental Consultant       Yes       75   \n",
       "99                                             Nursery       Yes       75   \n",
       "100                    NurseryEnvironmental Consultant       Yes       75   \n",
       "\n",
       "           location  \n",
       "1        Austin, TX  \n",
       "2       Parker , AZ  \n",
       "3        Tacoma, WA  \n",
       "4         Davie, FL  \n",
       "5       Kapa|au, HI  \n",
       "..              ...  \n",
       "96     Sarasota, FL  \n",
       "97   San Angelo, TX  \n",
       "98     McHenry , IL  \n",
       "99        Essex, VT  \n",
       "100  Essex, Vermont  \n",
       "\n",
       "[100 rows x 5 columns]"
      ]
     },
     "execution_count": 45,
     "metadata": {},
     "output_type": "execute_result"
    }
   ],
   "source": [
    "df"
   ]
  },
  {
   "cell_type": "markdown",
   "metadata": {},
   "source": [
    "# Cleaning Data"
   ]
  },
  {
   "cell_type": "code",
   "execution_count": 3,
   "metadata": {},
   "outputs": [],
   "source": [
    "full_df = pd.read_csv(\"WildflowerNurseryList.csv\",index_col=0)\n",
    "full_df[\"State\"] = full_df[\"location\"].apply(lambda x: x.split(\",\")[1].strip() if isinstance(x,str) else x) #location is city,state\n",
    "full_df[\"City\"] = full_df[\"location\"].apply(lambda x: x.split(\",\")[0] if isinstance(x,str) else x)\n",
    "full_df.columns = pd.Series(full_df.columns).str.capitalize()\n",
    "full_df.drop(\"Location\",axis=1,inplace=True)\n"
   ]
  },
  {
   "cell_type": "code",
   "execution_count": 4,
   "metadata": {},
   "outputs": [],
   "source": [
    "state_codes = [\"AL\", \"AK\", \"AZ\", \"AR\", \"CA\", \"CO\", \"CT\", \"DE\", \"DC\", \"FL\", \"GA\", \"HI\", \"ID\", \"IL\", \"IN\", \n",
    "\"IA\", \"KS\", \"KY\", \"LA\", \"ME\", \"MD\", \"MA\", \"MI\", \"MN\", \"MS\", \"MO\", \"MT\", \"NE\", \"NV\", \"NH\", \"NJ\", \"NM\", \n",
    "\"NY\", \"NC\", \"ND\", \"OH\", \"OK\", \"OR\", \"PA\", \"PR\", \"RI\", \"SC\", \"SD\", \"TN\", \"TX\", \"UT\", \"VT\", \"VA\", \"VI\", \n",
    "\"WA\", \"WV\", \"WI\", \"WY\"]"
   ]
  },
  {
   "cell_type": "code",
   "execution_count": 5,
   "metadata": {},
   "outputs": [],
   "source": [
    "import numpy as np\n",
    "full_df[\"State\"] = full_df[\"State\"].apply(lambda x: x if x in state_codes else np.nan)"
   ]
  },
  {
   "cell_type": "code",
   "execution_count": 6,
   "metadata": {},
   "outputs": [],
   "source": [
    "full_df.dropna(subset=[\"State\"],inplace=True)\n",
    "full_df.to_csv(\"WildflowerNurseryList2.csv\")"
   ]
  },
  {
   "cell_type": "markdown",
   "metadata": {},
   "source": [
    "# Code for scraping and cleaning ---"
   ]
  },
  {
   "cell_type": "code",
   "execution_count": 13,
   "metadata": {},
   "outputs": [],
   "source": [
    "driver = webdriver.Chrome(service=ser, options=options)\n",
    "driver.get(\"https://www.nurserytrees.com/States/state%20Alabama.htm\")"
   ]
  },
  {
   "cell_type": "code",
   "execution_count": 22,
   "metadata": {},
   "outputs": [],
   "source": [
    "tables = driver.find_elements(By.CSS_SELECTOR,\"table\")\n",
    "\n",
    "full_table = None\n",
    "for table in tables:\n",
    "    section_df = pd.read_html(table.get_attribute(\"outerHTML\"))[0]\n",
    "    if full_table is None:\n",
    "        full_table = section_df\n",
    "    else:\n",
    "        full_table = pd.concat([full_table,section_df])\n",
    "\n",
    "\n"
   ]
  },
  {
   "cell_type": "code",
   "execution_count": 11,
   "metadata": {},
   "outputs": [
    {
     "data": {
      "text/plain": [
       "[                0                              1  \\\n",
       " 0      ADAMSVILLE           LANDSCAPE SOURCE INC   \n",
       " 1       ALABASTER           DOUG'S LAWN CARE INC   \n",
       " 2       ALABASTER                  FAIRWAY LAWNS   \n",
       " 3       ALABASTER             WALMART GARDEN CTR   \n",
       " 4     ALBERTVILLE                A-1 MILL WRIGHT   \n",
       " 5     ALBERTVILLE  ROBERTS LANDSCAPE & TURF MGMT   \n",
       " 6  ALEXANDER CITY             BETTE'S GARDEN CTR   \n",
       " 7  ALEXANDER CITY             WALMART GARDEN CTR   \n",
       " \n",
       "                                2           3  \n",
       " 0      1985 VETERANS MEMORIAL DR  2057919846  \n",
       " 1                2562 TAHITI TER  2055316465  \n",
       " 2      1510 SIMMSVILLE RD # 1800  2059782060  \n",
       " 3    630 COLONIAL PROMENADE PKWY  2056200360  \n",
       " 4           3124 AL HIGHWAY 75 N  2568918543  \n",
       " 5  ROBERTS LANDSCAPE & TURF MGMT  2568917865  \n",
       " 6             1217 TALLAPOOSA ST  2563291115  \n",
       " 7               2643 HIGHWAY 280  2562340316  ]"
      ]
     },
     "execution_count": 11,
     "metadata": {},
     "output_type": "execute_result"
    }
   ],
   "source": [
    "html_list"
   ]
  },
  {
   "cell_type": "code",
   "execution_count": 5,
   "metadata": {},
   "outputs": [
    {
     "data": {
      "text/html": [
       "<div>\n",
       "<style scoped>\n",
       "    .dataframe tbody tr th:only-of-type {\n",
       "        vertical-align: middle;\n",
       "    }\n",
       "\n",
       "    .dataframe tbody tr th {\n",
       "        vertical-align: top;\n",
       "    }\n",
       "\n",
       "    .dataframe thead th {\n",
       "        text-align: right;\n",
       "    }\n",
       "</style>\n",
       "<table border=\"1\" class=\"dataframe\">\n",
       "  <thead>\n",
       "    <tr style=\"text-align: right;\">\n",
       "      <th></th>\n",
       "      <th>0</th>\n",
       "      <th>1</th>\n",
       "      <th>2</th>\n",
       "      <th>3</th>\n",
       "    </tr>\n",
       "  </thead>\n",
       "  <tbody>\n",
       "    <tr>\n",
       "      <th>0</th>\n",
       "      <td>ADAMSVILLE</td>\n",
       "      <td>LANDSCAPE SOURCE INC</td>\n",
       "      <td>1985 VETERANS MEMORIAL DR</td>\n",
       "      <td>2057919846</td>\n",
       "    </tr>\n",
       "    <tr>\n",
       "      <th>1</th>\n",
       "      <td>ALABASTER</td>\n",
       "      <td>DOUG'S LAWN CARE INC</td>\n",
       "      <td>2562 TAHITI TER</td>\n",
       "      <td>2055316465</td>\n",
       "    </tr>\n",
       "    <tr>\n",
       "      <th>2</th>\n",
       "      <td>ALABASTER</td>\n",
       "      <td>FAIRWAY LAWNS</td>\n",
       "      <td>1510 SIMMSVILLE RD # 1800</td>\n",
       "      <td>2059782060</td>\n",
       "    </tr>\n",
       "    <tr>\n",
       "      <th>3</th>\n",
       "      <td>ALABASTER</td>\n",
       "      <td>WALMART GARDEN CTR</td>\n",
       "      <td>630 COLONIAL PROMENADE PKWY</td>\n",
       "      <td>2056200360</td>\n",
       "    </tr>\n",
       "    <tr>\n",
       "      <th>4</th>\n",
       "      <td>ALBERTVILLE</td>\n",
       "      <td>A-1 MILL WRIGHT</td>\n",
       "      <td>3124 AL HIGHWAY 75 N</td>\n",
       "      <td>2568918543</td>\n",
       "    </tr>\n",
       "  </tbody>\n",
       "</table>\n",
       "</div>"
      ],
      "text/plain": [
       "             0                     1                            2           3\n",
       "0   ADAMSVILLE  LANDSCAPE SOURCE INC    1985 VETERANS MEMORIAL DR  2057919846\n",
       "1    ALABASTER  DOUG'S LAWN CARE INC              2562 TAHITI TER  2055316465\n",
       "2    ALABASTER         FAIRWAY LAWNS    1510 SIMMSVILLE RD # 1800  2059782060\n",
       "3    ALABASTER    WALMART GARDEN CTR  630 COLONIAL PROMENADE PKWY  2056200360\n",
       "4  ALBERTVILLE       A-1 MILL WRIGHT         3124 AL HIGHWAY 75 N  2568918543"
      ]
     },
     "execution_count": 5,
     "metadata": {},
     "output_type": "execute_result"
    }
   ],
   "source": [
    "df = html_list[0]\n",
    "df.head()"
   ]
  },
  {
   "cell_type": "code",
   "execution_count": 9,
   "metadata": {},
   "outputs": [],
   "source": [
    "states = [\"Alabama\", \"Alaska\", \"Arizona\", \"Arkansas\", \"California\", \"Colorado\", \"Connecticut\", \"Delaware\", \"Florida\", \n",
    "\"Georgia\", \"Hawaii\", \"Idaho\", \"Illinois\", \"Indiana\", \"Iowa\", \"Kansas\", \"Kentucky\", \"Louisiana\", \"Maine\", \n",
    "\"Maryland\", \"Massachusetts\", \"Michigan\", \"Minnesota\", \"Mississippi\", \"Missouri\", \"Montana\", \"Nebraska\", \"Nevada\", \n",
    "\"New Hampshire\", \"New Jersey\", \"New Mexico\", \"New York\", \"North Carolin\",\"North Dakota\", \"Ohio\", \"Oklahoma\", \"Oregon\", \"Pennsylvania\", \"Rhode Island\", \"South Carolin\", \"South Dakota\", \"Tennessee\",\n",
    " \"Texas\", \"Utah\", \"Vermont\", \"Virginia\", \"Washington\", \"West Virginia\", \"Wisconsin\", \"Wyoming\"]\n",
    "\n",
    "states = list(map(lambda x: \"%20\".join(x.split(\" \")),states))\n"
   ]
  },
  {
   "cell_type": "code",
   "execution_count": 10,
   "metadata": {},
   "outputs": [
    {
     "data": {
      "text/plain": [
       "['Alabama',\n",
       " 'Alaska',\n",
       " 'Arizona',\n",
       " 'Arkansas',\n",
       " 'California',\n",
       " 'Colorado',\n",
       " 'Connecticut',\n",
       " 'Delaware',\n",
       " 'Florida',\n",
       " 'Georgia',\n",
       " 'Hawaii',\n",
       " 'Idaho',\n",
       " 'Illinois',\n",
       " 'Indiana',\n",
       " 'Iowa',\n",
       " 'Kansas',\n",
       " 'Kentucky',\n",
       " 'Louisiana',\n",
       " 'Maine',\n",
       " 'Maryland',\n",
       " 'Massachusetts',\n",
       " 'Michigan',\n",
       " 'Minnesota',\n",
       " 'Mississippi',\n",
       " 'Missouri',\n",
       " 'Montana',\n",
       " 'Nebraska',\n",
       " 'Nevada',\n",
       " 'New%20Hampshire',\n",
       " 'New%20Jersey',\n",
       " 'New%20Mexico',\n",
       " 'New%20York',\n",
       " 'North%20Carolin',\n",
       " 'North%20Dakota',\n",
       " 'Ohio',\n",
       " 'Oklahoma',\n",
       " 'Oregon',\n",
       " 'Pennsylvania',\n",
       " 'Rhode%20Island',\n",
       " 'South%20Carolin',\n",
       " 'South%20Dakota',\n",
       " 'Tennessee',\n",
       " 'Texas',\n",
       " 'Utah',\n",
       " 'Vermont',\n",
       " 'Virginia',\n",
       " 'Washington',\n",
       " 'West%20Virginia',\n",
       " 'Wisconsin',\n",
       " 'Wyoming']"
      ]
     },
     "execution_count": 10,
     "metadata": {},
     "output_type": "execute_result"
    }
   ],
   "source": [
    "states"
   ]
  }
 ],
 "metadata": {
  "kernelspec": {
   "display_name": "Python 3.8.13 ('base')",
   "language": "python",
   "name": "python3"
  },
  "language_info": {
   "codemirror_mode": {
    "name": "ipython",
    "version": 3
   },
   "file_extension": ".py",
   "mimetype": "text/x-python",
   "name": "python",
   "nbconvert_exporter": "python",
   "pygments_lexer": "ipython3",
   "version": "3.8.13"
  },
  "orig_nbformat": 4,
  "vscode": {
   "interpreter": {
    "hash": "212529ebce2f0387ea161e99e46b8847747ab3db2200338c377e9fc9dca056e7"
   }
  }
 },
 "nbformat": 4,
 "nbformat_minor": 2
}
